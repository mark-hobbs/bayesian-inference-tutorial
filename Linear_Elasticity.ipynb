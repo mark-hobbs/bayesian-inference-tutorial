{
 "cells": [
  {
   "cell_type": "code",
   "execution_count": 1,
   "id": "85181315",
   "metadata": {},
   "outputs": [],
   "source": [
    "import numpy\n",
    "import scipy.stats\n",
    "import matplotlib.pyplot as plt"
   ]
  },
  {
   "cell_type": "markdown",
   "id": "2ff9f8d4",
   "metadata": {},
   "source": [
    "# Parameters"
   ]
  },
  {
   "cell_type": "code",
   "execution_count": 2,
   "id": "ecbda677",
   "metadata": {},
   "outputs": [],
   "source": [
    "E_accurate = 210  # Young's modulus (GPa)\n",
    "s_noise = 0.01  # Noise in the stress measurement (GPa)\n",
    "stress_measured = 0.1576\n",
    "strain_measured = 7.25E-4"
   ]
  },
  {
   "cell_type": "markdown",
   "id": "64cc6b00",
   "metadata": {},
   "source": [
    "# Bayes' Theorem\n",
    "\n",
    "$$\\pi(\\textbf{x}|\\textbf{y}) = \\frac{\\pi(\\textbf{x})\\pi(\\textbf{y}|\\textbf{x})}{\\pi(\\textbf{y})}$$\n",
    "\n",
    "Where $\\textbf{x}$ denotes a random vector with $n_p$ unknown parameters and $\\textbf{y}$ denotes a random vector with $n_m$ measurements."
   ]
  },
  {
   "cell_type": "markdown",
   "id": "3197fbeb",
   "metadata": {},
   "source": [
    "# Likelihood $\\pi(\\textbf{y}|\\textbf{x})$\n",
    "\n",
    "The PDF of the observed data $\\textbf{y}$. To construct the likelihood function, a noise model has to be formulated and a noise distribution ($\\pi_{noise}$) has to be determined. We assume that the noise distibution is known (including its parameters). The additive noise model can be written as follows:\n",
    "\n",
    "$$\\textbf{y} = \\textbf{f}(\\textbf{x}) + \\Omega$$\n",
    "\n",
    "Where $\\textbf{x}$ denotes the vector with the unknown material parameters, $\\textbf{y}$ the vector with the measured data and $\\Omega$ is the noise vector. $\\textbf{f}$ denotes the material description and is a function of the unknown material parameters ($\\textbf{x}$).\n",
    "\n",
    "$$\\pi(\\textbf{y}|\\textbf{x}) = \\pi_{noise}(\\textbf{y} - \\textbf{f}(\\textbf{x}))$$\n",
    "\n",
    "The only unknown material parameter in the linear elastic model is the Young's modulus ($E$). The additive noise measurement for a single stress measurement can be written as follows:\n",
    "\n",
    "$$Y = E\\epsilon + \\Omega$$\n",
    "\n",
    "Where $Y$ denotes the measured stress and $\\Omega$ denotes the random variable representing the noise in the stress measurement. We consider the noise distribution to be normal (Gaussian) and hence, it can be written as:\n",
    "\n",
    "$$\\pi_{noise}(\\omega) = \\frac{1}{s_{noise}\\sqrt{2\\pi}}exp\\left(-\\frac{1}{2}{\\frac{\\omega}{s^2_{noise}}}\\right)$$"
   ]
  },
  {
   "cell_type": "code",
   "execution_count": null,
   "id": "91485267",
   "metadata": {},
   "outputs": [],
   "source": []
  },
  {
   "cell_type": "markdown",
   "id": "279c53ea",
   "metadata": {},
   "source": [
    "# Prior distribution $\\pi(E)$\n",
    "\n",
    "The probability density function (PDF) that contains one's prior belief\n",
    "\n",
    "We use a prior in the form of a modified normal distribution:\n",
    "\n",
    "$$\\pi(E) \\propto exp\\left(-\\frac{(E - \\overline{E})^2}{2s^2_E}\\right) \\quad \\text{if}\\; E \\geqslant 0$$"
   ]
  },
  {
   "cell_type": "code",
   "execution_count": 3,
   "id": "a027c2d7",
   "metadata": {},
   "outputs": [],
   "source": [
    "def calculate_prior(E, mean, std_dev):\n",
    "    prior = numpy.exp(-((E - mean)**2 / (2 * std_dev**2)))\n",
    "    return prior    "
   ]
  },
  {
   "cell_type": "code",
   "execution_count": 9,
   "id": "b1f8583f",
   "metadata": {},
   "outputs": [
    {
     "data": {
      "text/plain": [
       "[<matplotlib.lines.Line2D at 0x7fb6f5e803d0>]"
      ]
     },
     "execution_count": 9,
     "metadata": {},
     "output_type": "execute_result"
    },
    {
     "data": {
      "image/png": "[encoded data removed]",
      "text/plain": [
       "<Figure size 432x288 with 1 Axes>"
      ]
     },
     "metadata": {
      "needs_background": "light"
     },
     "output_type": "display_data"
    }
   ],
   "source": [
    "mean = 150.00  # GPa\n",
    "std_dev = 50.00  # GPa\n",
    "E_vector = numpy.linspace(0, 300.00, 1000)\n",
    "\n",
    "# prior = scipy.stats.norm.pdf(E_vector, mean, std_dev)\n",
    "\n",
    "prior_list = []\n",
    "\n",
    "for i in range(len(E_vector)):\n",
    "    E = E_vector[i]\n",
    "    prior = calculate_prior(E, mean, std_dev)\n",
    "    prior_list.append(prior)\n",
    "\n",
    "plt.plot(E_vector, prior_list)\n"
   ]
  },
  {
   "cell_type": "markdown",
   "id": "8e431499",
   "metadata": {},
   "source": [
    "# Posterior distribution $\\pi(E|y)$\n",
    "\n",
    "The PDF of the unknown parameters $\\textbf{x}$, given the observations $\\textbf{y}$\n",
    "\n",
    "The posterior distribution for a single stress measurement reads:\n",
    "\n",
    "$$\\pi(E|y) \\propto exp\\left(-\\left[\\frac{(E - \\overline{E})^2}{2s^2_E} + \\frac{(y-E\\epsilon)^2} {2s^2_{noise}}\\right]\\right) \\quad \\text{if}\\; E \\geqslant 0$$"
   ]
  },
  {
   "cell_type": "code",
   "execution_count": 5,
   "id": "cfdd0e57",
   "metadata": {},
   "outputs": [],
   "source": [
    "def calculate_posterior(E, mean, std_dev, stress, strain, std_dev_noise):\n",
    "    posterior = numpy.exp(-((E - mean)**2 / (2 * std_dev**2) + (stress - E*strain)**2 / (2 * std_dev_noise**2)))\n",
    "    return posterior    "
   ]
  },
  {
   "cell_type": "code",
   "execution_count": 6,
   "id": "74ec513d",
   "metadata": {},
   "outputs": [
    {
     "data": {
      "text/plain": [
       "[<matplotlib.lines.Line2D at 0x7fb6f5bcc2e0>]"
      ]
     },
     "execution_count": 6,
     "metadata": {},
     "output_type": "execute_result"
    },
    {
     "data": {
      "image/png": "[encoded data removed]",
      "text/plain": [
       "<Figure size 432x288 with 1 Axes>"
      ]
     },
     "metadata": {
      "needs_background": "light"
     },
     "output_type": "display_data"
    }
   ],
   "source": [
    "posterior_list = []\n",
    "\n",
    "for i in range(len(E_vector)):\n",
    "    E = E_vector[i]\n",
    "    posterior = calculate_posterior(E, mean, std_dev, stress_measured, strain_measured, s_noise)\n",
    "    posterior_list.append(posterior)\n",
    "\n",
    "plt.plot(E_vector, posterior_list)\n",
    "plt.plot(E_vector, prior_list)"
   ]
  },
  {
   "cell_type": "markdown",
   "id": "e26c0e0d",
   "metadata": {},
   "source": [
    "# Stress-strain graph"
   ]
  },
  {
   "cell_type": "code",
   "execution_count": 7,
   "id": "c36e5e48",
   "metadata": {},
   "outputs": [
    {
     "data": {
      "text/plain": [
       "[<matplotlib.lines.Line2D at 0x7fb6f5cef9d0>]"
      ]
     },
     "execution_count": 7,
     "metadata": {},
     "output_type": "execute_result"
    },
    {
     "data": {
      "image/png": "[encoded data removed]",
      "text/plain": [
       "<Figure size 432x288 with 1 Axes>"
      ]
     },
     "metadata": {
      "needs_background": "light"
     },
     "output_type": "display_data"
    }
   ],
   "source": [
    "strain = numpy.linspace(0, 1.2E-3)\n",
    "stress = E * strain\n",
    "\n",
    "plt.plot(strain, stress)\n",
    "plt.plot(strain_measured, stress_measured, 'o')"
   ]
  },
  {
   "cell_type": "code",
   "execution_count": null,
   "id": "a3a854e2",
   "metadata": {},
   "outputs": [],
   "source": []
  }
 ],
 "metadata": {
  "kernelspec": {
   "display_name": "Python 3 (ipykernel)",
   "language": "python",
   "name": "python3"
  },
  "language_info": {
   "codemirror_mode": {
    "name": "ipython",
    "version": 3
   },
   "file_extension": ".py",
   "mimetype": "text/x-python",
   "name": "python",
   "nbconvert_exporter": "python",
   "pygments_lexer": "ipython3",
   "version": "3.8.8"
  }
 },
 "nbformat": 4,
 "nbformat_minor": 5
}
