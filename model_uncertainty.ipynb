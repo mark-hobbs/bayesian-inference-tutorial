{
 "cells": [
  {
   "cell_type": "markdown",
   "id": "258c248f",
   "metadata": {},
   "source": [
    "# Model Uncertainty\n",
    "\n",
    "1. Model error - linear elasticity-linear hardening\n",
    "2. Input error - noise in the strain\n",
    "3. Output error - noise in the experimental observations (stress)\n",
    "\n",
    "### Statistical model\n",
    "\n",
    "No model is completely correct and model uncertainty as an error source can be incorporated. A framework able to do so was developed by Kennedy and O'Hagan [[1]( https://doi.org/10.1111/1467-9868.00294)]\n",
    "\n",
    "$$\\sigma_{observed} = \\sigma_{true} + \\Omega$$\n",
    "\n",
    "with\n",
    "\n",
    "$$\\sigma_{true} = \\sigma_{model}(\\epsilon, \\textbf{x}) + d(\\epsilon)$$\n",
    "\n",
    "where $\\Omega$ is the error in the stress measurement and $d$ denotes the model uncertainty which is assumed to be dependent on the input (i.e. strain $\\epsilon$).\n",
    "\n",
    "### Likelihood\n",
    "\n",
    "$$\\pi(y|\\textbf{x}, \\textbf{x}_d, \\textbf{x}_{\\Omega}) = \\pi_{\\Omega}(y - \\sigma_{model}(\\epsilon, \\textbf{x}) - d(\\epsilon))$$\n",
    "\n",
    "\n",
    "### Gaussian process with a stationary covariance function"
   ]
  },
  {
   "cell_type": "markdown",
   "id": "a7c28c67",
   "metadata": {},
   "source": [
    "## References\n",
    "\n",
    "[1] Kennedy, M. C., & O'Hagan, A. (2001). Bayesian calibration of computer models. Journal of the Royal Statistical Society: Series B (Statistical Methodology), 63(3), 425-464."
   ]
  }
 ],
 "metadata": {
  "kernelspec": {
   "display_name": "Python 3 (ipykernel)",
   "language": "python",
   "name": "python3"
  },
  "language_info": {
   "codemirror_mode": {
    "name": "ipython",
    "version": 3
   },
   "file_extension": ".py",
   "mimetype": "text/x-python",
   "name": "python",
   "nbconvert_exporter": "python",
   "pygments_lexer": "ipython3",
   "version": "3.8.12"
  }
 },
 "nbformat": 4,
 "nbformat_minor": 5
}
