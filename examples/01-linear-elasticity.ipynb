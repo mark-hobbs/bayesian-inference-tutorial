{
 "cells": [
  {
   "cell_type": "code",
   "execution_count": 1,
   "id": "85181315",
   "metadata": {},
   "outputs": [],
   "source": [
    "import numpy as np\n",
    "import matplotlib.pyplot as plt\n",
    "\n",
    "# import scipy.stats\n",
    "\n",
    "# from src.material_model import LinearElasticity as LE\n",
    "# from src.sampler import MetropolisHastings, AdaptiveMetropolisHastings\n",
    "\n",
    "# from ipynb.fs.full.functions import (\n",
    "#     random_draw,\n",
    "#     linear_regression,\n",
    "#     add_labels,\n",
    "#     plot_posterior,\n",
    "#     plot_regression_results,\n",
    "# )\n",
    "\n",
    "plt.rcParams.update(\n",
    "    {\n",
    "        \"text.usetex\": True,\n",
    "        \"font.family\": \"sans-serif\",\n",
    "        \"font.sans-serif\": [\"Times New Roman\"],\n",
    "    }\n",
    ")\n",
    "plt.rcParams[\"font.family\"] = \"Times New Roman\"\n",
    "\n",
    "# save_figures = False"
   ]
  },
  {
   "cell_type": "markdown",
   "id": "04fcc002",
   "metadata": {},
   "source": [
    "# Linear Elasticity\n",
    "\n",
    "This example can be found in Section 5.2 in the following paper: [A Tutorial on Bayesian Inference to Identify Material Parameters in Solid Mechanics](https://doi.org/10.1007/s11831-018-09311-x)"
   ]
  },
  {
   "cell_type": "markdown",
   "id": "07bfdd0e-26bd-4bb4-9881-258c9059bae0",
   "metadata": {},
   "source": [
    "## 1. Problem statement\n",
    "\n",
    "Given a series of experimental observations, obtained from a material specimen undergoing uniaxial tension - for example, stress-strain data - and acknowledging that the observations will be contaminated by a small amount of noise, infer the model parameters that describe the material response with a quantified level of uncertainty.\n",
    "\n",
    "<span style=\"color: blue;\">\n",
    "    \n",
    "We are given a series of experimental observations in the form of stress-strain ($\\sigma$-$\\epsilon$) data, obtained from a uniaxial tensile test of a linear-elastic material specimen. All observations are contaminated by a degree of noise, and it is essential to acknowledge and mitigate this noise to ensure the accuracy of any subsequent analyses or conclusions drawn from the data. \n",
    "\n",
    "</span>\n",
    "\n",
    "![](figures/linear-elastic-experimental-observations.png)\n",
    "\n",
    "<span style=\"color: blue;\">\n",
    "\n",
    "#### General problem statement\n",
    "\n",
    "Given a set of observed realisations of a random variable $X$,\n",
    "\n",
    "$$S = \\{x_1, x_2, ..., x_N\\}, \\quad x_j \\in \\mathbb{R}^n$$\n",
    " \n",
    "we aim to infer the underlying probability distributions that generate the data set $S$.\n",
    "\n",
    "</span>"
   ]
  },
  {
   "cell_type": "markdown",
   "id": "d2e31eee-1be5-4ec7-8bd0-e2d9d1dbb6ad",
   "metadata": {},
   "source": [
    "## 2. Material model\n",
    "<!-- \n",
    "An expert, upon examining the above experimental observations, could reasonably assume that the  material response is best described by a linear elastic model.\n",
    "\n",
    "It is assumed that the behaviour of the material specimen can be described by a linear elastic law that is defined by a single parameter: Young's modulus $E$. The stress-strain response of the linear elastic model during uniaxial tension can be written as:\n",
    "\n",
    "$$\\sigma(\\epsilon, \\textbf{x}) = E\\epsilon$$\n",
    "\n",
    "where $\\sigma$ denotes the stress, $\\epsilon$ the strain, $\\textbf{x}$ the model parameter vector (here $\\textbf{x} = E$) and $E$ the Young's modulus. \n",
    " -->\n",
    "Upon examining the above experimental observations, an expert could reasonably infer that the material response is best characterised by a linear elastic model. The behaviour of a linear elastic material is described by a single parameter, Young's modulus $E$, and the stress-strain relationship in a linear elastic material during uniaxial tension can be expressed as:\n",
    "\n",
    "$$\\sigma(\\epsilon, \\textbf{x}) = E\\epsilon$$\n",
    "\n",
    "where $\\sigma$ represents stress, $\\epsilon$ represents strain, $\\textbf{x}$ denotes the model parameter vector (in this case, $\\textbf{x} = E$), and $E$ denotes Young's modulus. Below is a `LinearElastic` class...\n",
    "\n",
    "![](figures/linear-elastic-material-model.png)"
   ]
  },
  {
   "cell_type": "code",
   "execution_count": 2,
   "id": "ef91748d-973b-4759-91d8-9cece520c5b7",
   "metadata": {},
   "outputs": [],
   "source": [
    "class LinearElastic:\n",
    "    \n",
    "    def __init__(self, E):\n",
    "        \"\"\"\n",
    "        Parameters\n",
    "        ----------\n",
    "        E : float\n",
    "            Young's Modulus\n",
    "        \"\"\"\n",
    "        self.E = E\n",
    "\n",
    "    def compute_stress(self, strain):\n",
    "        \"\"\"\n",
    "        Compute stress\n",
    "\n",
    "        Parameters\n",
    "        ----------\n",
    "        strain : float\n",
    "\n",
    "        Returns\n",
    "        -------\n",
    "        stress : float\n",
    "        \"\"\"\n",
    "        return self.E * strain"
   ]
  },
  {
   "cell_type": "code",
   "execution_count": 3,
   "id": "70d63b38-7852-49c3-8ee8-fb4a03ab069f",
   "metadata": {},
   "outputs": [
    {
     "data": {
      "image/png": "[encoded data removed]",
      "text/plain": [
       "<Figure size 500x350 with 1 Axes>"
      ]
     },
     "metadata": {},
     "output_type": "display_data"
    }
   ],
   "source": [
    "E = 210\n",
    "model = LinearElastic(E)\n",
    "strain = np.linspace(0, 1.2e-3, 100)\n",
    "stress = model.compute_stress(strain)\n",
    "\n",
    "plt.figure(figsize=(5, 3.5))\n",
    "plt.plot(strain, stress, label=f\"E = {E} GPa\")\n",
    "plt.title(\"Material model\")\n",
    "plt.xlabel(\"Strain $\\epsilon$\")\n",
    "plt.ylabel(\"Stress $\\sigma$\")\n",
    "plt.legend()\n",
    "plt.savefig(\"figures/linear-elastic-material-model.png\", dpi=300)"
   ]
  },
  {
   "cell_type": "markdown",
   "id": "31812dde-7dd0-4ab5-a605-18f7e3c31c51",
   "metadata": {},
   "source": [
    "## 3. Model fitting and inverse problems\n",
    "\n",
    "The problem statement is an example of an **inverse problem**. The goal of an inverse problem is to estimate an unknown parameter that is not directly observable by using measured data and a mathematical model linking the observed and the unknown.\n",
    "\n",
    "Central to this process is **model fitting**, where a mathematical model is selected or designed to describe the relationship between observed data and the unknown parameter. This model is adjusted to minimise the disparity between predicted values and actual observations, typically employing optimisation techniques to find the best-fitting parameters. Through model fitting, predictions or estimations about the unknown parameter can be derived.\n",
    "\n",
    "#### Conventional methods\n",
    "\n",
    "Linear regression or optimisation techniques are typically employed to address inverse problems. Let us consider a scenario where we have a dataset comprising observed data points and a mathematical model that links these observations to the unknown parameter we aim to estimate. Linear regression, for instance, seeks to establish a linear relationship between the observed data and the unknown parameter. This involves minimising the squared differences between the observed data points and the corresponding predictions made by the model.\n",
    "\n",
    "However, traditional methods like linear regression have certain limitations when dealing with inverse problems:\n",
    "\n",
    "1. **Assumptions about linearity:** Linear regression assumes that the relationship between the observed data and the unknown parameter is linear. In many real-world scenarios, this assumption may not hold true, leading to biased estimates.\n",
    "\n",
    "2. **Overfitting:** Conventional methods may overfit the data, particularly when dealing with high-dimensional datasets or when the model is overly complex relative to the available data. Overfitting can result in poor generalisation performance and unreliable estimates of the unknown parameter.\n",
    "\n",
    "3. **Uncertainty quantification:** Linear regression typically does not provide a straightforward means to quantify uncertainty in the estimated parameters. It offers **point estimates** without adequately capturing the inherent uncertainty in the data or the model assumptions.\n",
    "\n",
    "#### Bayesian inference\n",
    "\n",
    "A Bayesian framework offers significant advantages. In Bayesian inference, we treat the unknown parameter as a random variable and specify a prior distribution representing our initial beliefs or knowledge about the parameter before observing the data. By combining this prior distribution with the likelihood function (which describes how the data are generated given the parameter values) and applying Bayes' theorem, we can derive the posterior distribution, reflecting our updated beliefs about the parameter after observing the data.\n",
    "\n",
    "There are multiple reasons why a Bayesian framework is better suited for solving inverse problems:\n",
    "\n",
    "1. **Incorporating prior knowledge:** Bayesian inference enables us to incorporate prior knowledge or beliefs about the unknown parameter into the estimation process. This proves particularly useful when dealing with limited data, as it helps regularise the estimation and reduces the risk of overfitting.\n",
    "\n",
    "2. **Flexibility in modelling:** Unlike traditional methods, which often rely on specific assumptions about the data-generating process (e.g. linearity in linear regression), Bayesian inference provides a flexible framework for modelling complex relationships and incorporating various sources of uncertainty.\n",
    "\n",
    "3. **Uncertainty quantification:** Bayesian inference naturally provides a means to quantify uncertainty in the estimated parameters through the posterior distribution. This allows for more informed decision-making by accounting for the inherent uncertainty in the data and the model.\n",
    "\n",
    "Overall, the Bayesian framework offers a principled approach to solving inverse problems by integrating prior knowledge, capturing uncertainty, and providing more robust and interpretable estimates compared to traditional methods like linear regression."
   ]
  },
  {
   "cell_type": "markdown",
   "id": "d8c7115a",
   "metadata": {},
   "source": [
    "## 4. Generating synthetic data\n",
    "\n",
    "In order to introduce the Bayesian approach in the most intuitive manner, the experimental observations are generated numerically so that they deviate from the *true* constitutive model using a known noise model. This allows for a one-to-one comparison between the *true* parameter values and the inferred parameter distributions.\n",
    "\n",
    "### *True* material parameters\n",
    "\n",
    "The *true* value of $E$ that we are attempting to identify (infer) from the experimental observations is:\n",
    "\n",
    "$$E = 210 \\; \\textrm{GPa}$$\n",
    "\n",
    "The noise $\\Omega$ in the stress measurements has a normal distribution with a zero mean and a standard deviation of $s_{noise}$. Note that in this case, only the stress measurement is contaminated by noise. \n",
    "\n",
    "$$\\Omega = \\mathcal{N}(\\mu, \\sigma^2) = \\mathcal{N}(0, 0.01^2)$$\n",
    "\n",
    "The *true* stress-strain response and the noisy experimental observations are illustrated in the following figure."
   ]
  },
  {
   "cell_type": "code",
   "execution_count": 4,
   "id": "d11b3428-0a96-4931-a583-73f3ff663f07",
   "metadata": {},
   "outputs": [],
   "source": [
    "def generate_synthetic_data(model, x, noise_std_dev, n_observations, seed=None):\n",
    "    np.random.seed(seed)\n",
    "    x = np.random.choice(x, n_observations)\n",
    "    y = model.compute_stress(x)\n",
    "    noise = np.random.normal(loc=0, scale=noise_std_dev, size=len(y))\n",
    "    return x, y + noise"
   ]
  },
  {
   "cell_type": "code",
   "execution_count": 5,
   "id": "7eda3e5a-ef70-468f-8f0a-27e85fad4921",
   "metadata": {},
   "outputs": [
    {
     "data": {
      "text/plain": [
       "<matplotlib.legend.Legend at 0x11e6fc950>"
      ]
     },
     "execution_count": 5,
     "metadata": {},
     "output_type": "execute_result"
    },
    {
     "data": {
      "image/png": "[encoded data removed]",
      "text/plain": [
       "<Figure size 500x350 with 1 Axes>"
      ]
     },
     "metadata": {},
     "output_type": "display_data"
    }
   ],
   "source": [
    "linear = LinearElastic(210)\n",
    "x = np.linspace(0, 1.2e-3, 100)\n",
    "strain_observed, stress_observed = generate_synthetic_data(linear, x, 0.01, 10)\n",
    "\n",
    "plt.figure(figsize=(5, 3.5))\n",
    "plt.scatter(strain_observed, stress_observed, label='Observation')\n",
    "plt.title(\"Experimental observations\")\n",
    "plt.xlabel(\"Strain $\\epsilon$\")\n",
    "plt.ylabel(\"Stress $\\sigma$\")\n",
    "plt.legend()\n",
    "# plt.savefig(\"figures/linear-elastic-experimental-observations.png\", dpi=300)"
   ]
  },
  {
   "cell_type": "markdown",
   "id": "64cc6b00",
   "metadata": {},
   "source": [
    "## 5. Bayesian inference\n",
    "\n",
    "Now it is time to introduce Bayes' Theorem.\n",
    "\n",
    "We have some noisy experimental data from a uniaxial tensile test of a material specimen. Using our expert judgement we have hypothesised that the material response can be described by a linear-elastic material law. We now wish to identify (infer) the model parameters from the experimental observations. \n",
    "\n",
    "The most commonly used approach to identify model parameters is to formulate an error function that measures the difference between the model response and the experimental data. The error function is then minimised with respect to the model parameters in order to determine the most suitable values (linear regression etc). This approach provides a deterministic estimate of model parameters, and is unable to account for the unavoidable uncertainties associated with determining parameters from noisy experimental data.\n",
    "\n",
    "The Bayesian approach enables a rigorous treatment of all sources of uncertainy, for example, noise in the experimental observations and model uncertainty (uncertainty due to assumptions and simpliciations made in the physical model). The model and model parameters that explain an observed data set are treated as uncertain variables, as opposed to deterministic variables. Bayesian inference provides a framework to learn the entire distribution of model parameters, not just deterministic estimates, which maximize the probability of observing the given data. Learning comes from two sources: (1) the evidence provided by the observed data, and (2) domain knowledge from experts (i.e. prior knowledge).\n",
    "\n",
    "<span style=\"color: blue;\">\n",
    "    \n",
    "### Bayesian Inference\n",
    "\n",
    "#### Introduction\n",
    "- Brief overview of Bayesian inference as a statistical method.\n",
    "- Highlight its relevance and widespread application in various fields, including but not limited to machine learning, economics, and biology.\n",
    "\n",
    "#### Fundamental Concepts\n",
    "\n",
    "1. **Bayes' Theorem:**\n",
    "   - Explanation of Bayes' theorem and its significance in updating beliefs based on evidence.\n",
    "   - Mathematical formulation and its interpretation.\n",
    "2. **Prior Probability:**\n",
    "   - Definition and explanation of prior probability.\n",
    "   - Discussion on how prior knowledge or beliefs are incorporated into Bayesian inference.\n",
    "3. **Likelihood Function:**\n",
    "   - Definition and explanation of the likelihood function.\n",
    "   - Role of the likelihood function in quantifying the support that the observed data provides for different values of the parameters.\n",
    "4. **Posterior Probability:**\n",
    "   - Definition and explanation of posterior probability.\n",
    "   - Derivation of the posterior distribution using Bayes' theorem.\n",
    "   - Importance of the posterior distribution as the updated probability distribution of the parameters after considering the observed data.\n",
    "\n",
    "#### Bayesian Inference Process\n",
    "1. **Model Specification:**\n",
    "   - Explanation of the process of defining a probabilistic model that describes the relationship between the observed data and the unknown parameters.\n",
    "2. **Prior Selection:**\n",
    "   - Discussion on choosing appropriate prior distributions based on prior knowledge or assumptions about the parameters.\n",
    "3. **Likelihood Evaluation:**\n",
    "   - Explanation of how the likelihood function is evaluated based on the observed data and the chosen model.\n",
    "4. **Posterior Inference:**\n",
    "   - Description of methods for obtaining the posterior distribution, including analytical, numerical, and computational techniques such as Markov Chain Monte Carlo (MCMC) methods.\n",
    "\n",
    "#### Interpretation and Applications\n",
    "- Interpretation of the posterior distribution in Bayesian inference.\n",
    "- Illustration of Bayesian inference through examples from various domains, showcasing its flexibility and usefulness in practical scenarios.\n",
    "\n",
    "#### Strengths and Limitations\n",
    "- Discussion on the strengths of Bayesian inference, including its ability to incorporate prior knowledge, provide coherent uncertainty quantification, and handle complex models.\n",
    "- Examination of the limitations and challenges associated with Bayesian inference, such as computational complexity, sensitivity to prior specification, and the subjectivity involved in choosing priors.\n",
    "\n",
    "#### Conclusion\n",
    "- Recap of the key concepts and processes involved in Bayesian inference.\n",
    "- Emphasis on its importance as a powerful statistical framework for inference and decision-making.\n",
    "\n",
    "</span>"
   ]
  },
  {
   "cell_type": "markdown",
   "id": "5b6b79d2-a24d-46d4-b4a3-e2a2669766a2",
   "metadata": {},
   "source": [
    "### 5.1 Bayes' theorem\n",
    "\n",
    "Baye's theorem is used to determine the probability of a hypothesis given observed evidence (the posterior probability). In this example, we can think of the hypothesis and evidence as follows:\n",
    "\n",
    "- **Hypothesis:** we hypothesise a model and values for the model parameters, and then we assess how well the model parameters explain the observations\n",
    "- **Evidence:** the evidence is in the form of experimental observations (stress-strain data from a uniaxial tensile test)\n",
    "\n",
    "The posterior probability is a function of the prior probability (prior knowledge) and a \"likelihood function\" derived from a statistical model for the observed data. Bayesian inference computes the posterior probability according to Bayes' theorem:\n",
    "\n",
    "$$\\pi(\\textbf{x}|\\textbf{y}) = \\frac{\\pi(\\textbf{x})\\pi(\\textbf{y}|\\textbf{x})}{\\pi(\\textbf{y})}$$\n",
    "\n",
    "where $\\pi(\\textbf{x}|\\textbf{y})$ is the posterior probability, $\\pi(\\textbf{x})$ is the prior probability, $\\pi(\\textbf{y}|\\textbf{x})$ is the likelihood and $\\textbf{x}$ denotes a vector with $n_p$ model parameters and $\\textbf{y}$ denotes a vector with $n_m$ observations."
   ]
  },
  {
   "cell_type": "markdown",
   "id": "279c53ea",
   "metadata": {},
   "source": [
    "### 5.2 Prior $\\pi(\\textbf{x})$\n",
    "\n",
    "The prior encapsulates the initial belief regarding the value of a parameter before considering any evidence. The prior can be established through consulting experts or examining existing literature, for example, to determine a typical value for material stiffness. In our case, the sole unknown parameter is the material stiffness $E$, and we adopt a prior represented by a modified normal distribution:\n",
    "\n",
    "$$\\pi(E) \\propto exp\\left(-\\frac{(E - \\overline{E})^2}{2s^2_E}\\right) \\quad \\text{if}\\; E \\geqslant 0$$\n",
    "\n",
    "This distribution is chosen to reflect the constraint that material stiffness cannot be negative or zero. The parameter $\\overline{E}$ denotes the mean stiffness value, while $s_E$ represents the standard deviation. Utilising this prior distribution enables us to incorporate our understanding of material properties into the analysis, providing a foundation for making informed inferences about $E$. This concept is very powerful when we only have a small data set.\n",
    "\n",
    "<span style=\"color: blue;\">\n",
    "    \n",
    "Should I create a `Prior`, `Likelihood` and `Posterior` class? \n",
    "\n",
    "</span>"
   ]
  },
  {
   "cell_type": "code",
   "execution_count": 6,
   "id": "a027c2d7",
   "metadata": {},
   "outputs": [],
   "source": [
    "def prior_distribution(x, mean, std_dev):\n",
    "    return np.exp(-((x - mean) ** 2 / (2 * std_dev**2)))"
   ]
  },
  {
   "cell_type": "code",
   "execution_count": 7,
   "id": "976327b1",
   "metadata": {},
   "outputs": [],
   "source": [
    "def set_prior(pi, mean, std_dev):\n",
    "    def wrapper(x):\n",
    "        return pi(x, mean, std_dev)\n",
    "\n",
    "    return wrapper"
   ]
  },
  {
   "cell_type": "markdown",
   "id": "3197fbeb",
   "metadata": {},
   "source": [
    "### 5.4 Likelihood $\\pi(\\textbf{y}|\\textbf{x})$\n",
    "\n",
    "The likelihood function represents the probability that the observed data $\\textbf{y}$ was generated by the model parameters $\\textbf{x}$. Thus, when evaluated on a given sample of the model parameters $\\textbf{x}$, the likelihood function indicates which parameter values are more likely than others, in the sense that they would have made the observed data $\\textbf{y}$ more probable. A low value of likelihood would indicate that either the model is wrong, the model parameters are wrong, or the observed data is rare. To construct the likelihood function we need to define a model that represents the data-generating process.\n",
    "\n",
    "#### Statistical generating model \n",
    "\n",
    "We define a statistical model that represents the data-generating process (i.e. a model of our experimental data).\n",
    "\n",
    "$$\\textbf{y} = \\textbf{f}(\\textbf{x}) + \\mathbf{\\Omega}$$\n",
    "\n",
    "where $\\textbf{y}$ denotes a vector with $n_m$ experimental observations, $\\textbf{x}$ denotes a vector with $n_p$ unknown model parameters, and $\\mathbf{\\Omega}$ is the noise in the experimental observations. We assume that the noise distribution is known (including its parameters). $\\textbf{f}(\\textbf{x})$ denotes the model and is a function of the unknown model parameters $\\textbf{x}$. For this case the only unknown parameter is the material stiffness $E$. The likelihood function is formulated as follows:\n",
    "\n",
    "$$\\pi(\\textbf{y}|\\textbf{x}) = \\pi_{noise}(\\textbf{y} - \\textbf{f}(\\textbf{x}))$$\n",
    "\n",
    "The only unknown material parameter in the linear elastic model is the Young's modulus ($E$) and based on the above, the additive noise model for a single stress measurement can be written as follows:\n",
    "\n",
    "$$y = E\\epsilon + \\Omega$$\n",
    "\n",
    "where $y$ denotes the measured stress and $\\Omega$ denotes the random variable representing the noise in the stress measurement. We consider the noise distribution to be normal (Gaussian) and hence, the likelihood function for a single observation can be expressed as:\n",
    "\n",
    "$$\\pi(y|E) = \\pi_{noise}(y - E\\epsilon) = \\frac{1}{s_{noise}\\sqrt{2\\pi}}exp\\left(-\\frac{1}{2}{\\frac{(y - E\\epsilon)^2}{s^2_{noise}}}\\right)$$\n",
    "\n",
    "The likelihood for all observations can be expressed as:\n",
    "\n",
    "$$\\pi(\\textbf{y}|E) = \\frac{1}{s_{noise}\\sqrt{2\\pi}}exp\\left(-\\frac{1}{2}{\\frac{\\sum_{i=1}^{n_m}(y - E\\epsilon)^2}{s^2_{noise}}}\\right)$$"
   ]
  },
  {
   "cell_type": "code",
   "execution_count": 8,
   "id": "02325d03",
   "metadata": {},
   "outputs": [],
   "source": [
    "def likelihood_distribution(omega, sigma):\n",
    "    return 1 / (sigma * np.sqrt(2 * np.pi)) * np.exp(-0.5 * (omega**2 / sigma**2))"
   ]
  },
  {
   "cell_type": "code",
   "execution_count": 9,
   "id": "47db2454",
   "metadata": {},
   "outputs": [],
   "source": [
    "def calculate_omega(observation, model):\n",
    "    return observation - model"
   ]
  },
  {
   "cell_type": "code",
   "execution_count": 10,
   "id": "6adbb2eb",
   "metadata": {},
   "outputs": [],
   "source": [
    "def set_likelihood(pi, sigma, observations, x):\n",
    "    def wrapper(candidate):\n",
    "        omega = 0\n",
    "        for i in range(len(x)):\n",
    "            omega += calculate_omega(observations[i], material_model(candidate, x[i]))\n",
    "        return pi(omega, sigma)\n",
    "\n",
    "    return wrapper"
   ]
  },
  {
   "cell_type": "markdown",
   "id": "8e431499",
   "metadata": {},
   "source": [
    "### 5.5 Posterior $\\pi(E|y)$\n",
    "\n",
    "The PDF of the unknown parameters $\\textbf{x}$, given the observations $\\textbf{y}$\n",
    "\n",
    "The posterior distribution for a single stress measurement reads:\n",
    "\n",
    "$$\\pi(\\textbf{x}|\\textbf{y}) \\propto \\pi(\\textbf{x})\\pi(\\textbf{y}|\\textbf{x})$$\n",
    "\n",
    "$$\\pi(E|y) \\propto exp\\left(-\\left[\\frac{(E - \\overline{E})^2}{2s^2_E} + \\frac{(y-E\\epsilon)^2} {2s^2_{noise}}\\right]\\right) \\quad \\text{if}\\; E \\geqslant 0$$\n",
    "\n",
    "Since the data $y$ is already measured, the denominator in Bayes' Theorem $\\pi(y)$ is a positive constant number $C$. This constant number can be regarded as a normalisation factor that ensures that the integral of the posterior $\\pi(E|y)$ over $E$ equals 1:\n",
    "\n",
    "$$\\pi(E|y) = \\frac{1}{C}\\pi(E)\\pi(y|E)$$"
   ]
  },
  {
   "cell_type": "code",
   "execution_count": 11,
   "id": "76e9e29a",
   "metadata": {},
   "outputs": [],
   "source": [
    "def calc_posterior(prior, likelihood):\n",
    "    return prior * likelihood"
   ]
  },
  {
   "cell_type": "markdown",
   "id": "22f2448c-5445-4d5f-a3a1-408d797ef266",
   "metadata": {},
   "source": [
    "## 6. Compute the Posterior Distribution\n",
    "\n",
    "Bayesian inference allows us to update our beliefs about parameters of interest given observed data. This updating process results in the posterior distribution, which encapsulates our updated knowledge about the parameters after considering the data. Several methods can be employed to compute the posterior distribution. <span style=\"color: blue;\">Below we describe the three most popular methods:</span>\n",
    "\n",
    "#### Analytical Solution:\n",
    "\n",
    "The analytical solution involves deriving the posterior distribution mathematically by applying Bayes' theorem. Given prior beliefs about the parameters and the likelihood function representing the probability of observing the data given the parameters, Bayes' theorem provides a formula for updating these beliefs to obtain the posterior distribution. This method is ideal when both the prior and likelihood functions have conjugate distributions, leading to a closed-form solution. Examples include the normal-normal and beta-binomial models.\n",
    "\n",
    "<span style=\"color: blue;\">\n",
    "\n",
    "It is possible to analytically examine the posterior distribution for a linear elastic model if the noise model is additive and the noise distribution and the prior distribution are (modified) normal distributions.\n",
    "\n",
    "</span>\n",
    "\n",
    "#### Grid Search:\n",
    "\n",
    "In cases where analytical solutions are not feasible due to complex or non-standard distributions, grid search provides a practical numerical approach. In grid search, the parameter space is discretized into a grid, and the posterior probability is computed for each grid point. This method involves evaluating the prior and likelihood functions at each grid point and then normalizing to obtain the posterior probabilities. While grid search is straightforward to implement, it may become computationally intensive for high-dimensional parameter spaces.\n",
    "\n",
    "#### Markov Chain Monte Carlo (MCMC):\n",
    "\n",
    "MCMC methods offer a powerful and versatile approach to estimate the posterior distribution, particularly in high-dimensional and complex models where analytical solutions or grid search are impractical. MCMC algorithms, such as Metropolis-Hastings and Gibbs sampling, generate a Markov chain that asymptotically converges to samples from the target posterior distribution. These methods iteratively propose candidate parameter values, accepting or rejecting them based on a defined acceptance criterion that preserves the desired distribution. MCMC provides flexibility in handling complex models and can efficiently explore the parameter space, even in cases of high dimensionality or non-standard distributions.\n",
    "\n",
    "Each of these methods has its strengths and limitations, and the choice depends on factors such as the complexity of the model, computational resources available, and the desired accuracy of the posterior estimation. Additionally, combining multiple approaches or employing advanced MCMC techniques, such as Hamiltonian Monte Carlo, can further enhance the accuracy and efficiency of Bayesian inference in various scenarios."
   ]
  },
  {
   "cell_type": "code",
   "execution_count": 12,
   "id": "719a236e",
   "metadata": {},
   "outputs": [],
   "source": [
    "def grid_search(calc_prior, calc_likelihood, parameter_candidates):\n",
    "    \"\"\"\n",
    "    Search every possible candidate\n",
    "    \"\"\"\n",
    "    pdf = []\n",
    "    for candidate in parameter_candidates:\n",
    "        pdf.append(calc_posterior(calc_prior(candidate), calc_likelihood(candidate)))\n",
    "    return pdf"
   ]
  },
  {
   "cell_type": "markdown",
   "id": "e26c0e0d",
   "metadata": {},
   "source": [
    "### 2 observations"
   ]
  },
  {
   "cell_type": "code",
   "execution_count": 13,
   "id": "677544f4",
   "metadata": {},
   "outputs": [
    {
     "ename": "NameError",
     "evalue": "name 'material_model' is not defined",
     "output_type": "error",
     "traceback": [
      "\u001b[0;31m---------------------------------------------------------------------------\u001b[0m",
      "\u001b[0;31mNameError\u001b[0m                                 Traceback (most recent call last)",
      "Cell \u001b[0;32mIn[13], line 10\u001b[0m\n\u001b[1;32m      6\u001b[0m likelihood \u001b[38;5;241m=\u001b[39m set_likelihood(\n\u001b[1;32m      7\u001b[0m     likelihood_distribution, \u001b[38;5;241m0.01\u001b[39m, stress_observed[subset], strain_observed[subset]\n\u001b[1;32m      8\u001b[0m )\n\u001b[1;32m      9\u001b[0m candidate_parameter \u001b[38;5;241m=\u001b[39m np\u001b[38;5;241m.\u001b[39mlinspace(\u001b[38;5;241m0\u001b[39m, \u001b[38;5;241m300\u001b[39m, \u001b[38;5;241m1000\u001b[39m)\n\u001b[0;32m---> 10\u001b[0m posterior \u001b[38;5;241m=\u001b[39m \u001b[43mgrid_search\u001b[49m\u001b[43m(\u001b[49m\u001b[43mprior\u001b[49m\u001b[43m,\u001b[49m\u001b[43m \u001b[49m\u001b[43mlikelihood\u001b[49m\u001b[43m,\u001b[49m\u001b[43m \u001b[49m\u001b[43mcandidate_parameter\u001b[49m\u001b[43m)\u001b[49m\n\u001b[1;32m     12\u001b[0m [m, c] \u001b[38;5;241m=\u001b[39m linear_regression(strain_data[subset], stress_data[subset])\n\u001b[1;32m     14\u001b[0m plot_posterior(candidate_parameter, prior, posterior, E, m)\n",
      "Cell \u001b[0;32mIn[12], line 7\u001b[0m, in \u001b[0;36mgrid_search\u001b[0;34m(calc_prior, calc_likelihood, parameter_candidates)\u001b[0m\n\u001b[1;32m      5\u001b[0m pdf \u001b[38;5;241m=\u001b[39m []\n\u001b[1;32m      6\u001b[0m \u001b[38;5;28;01mfor\u001b[39;00m candidate \u001b[38;5;129;01min\u001b[39;00m parameter_candidates:\n\u001b[0;32m----> 7\u001b[0m     pdf\u001b[38;5;241m.\u001b[39mappend(calc_posterior(calc_prior(candidate), \u001b[43mcalc_likelihood\u001b[49m\u001b[43m(\u001b[49m\u001b[43mcandidate\u001b[49m\u001b[43m)\u001b[49m))\n\u001b[1;32m      8\u001b[0m \u001b[38;5;28;01mreturn\u001b[39;00m pdf\n",
      "Cell \u001b[0;32mIn[10], line 5\u001b[0m, in \u001b[0;36mset_likelihood.<locals>.wrapper\u001b[0;34m(candidate)\u001b[0m\n\u001b[1;32m      3\u001b[0m omega \u001b[38;5;241m=\u001b[39m \u001b[38;5;241m0\u001b[39m\n\u001b[1;32m      4\u001b[0m \u001b[38;5;28;01mfor\u001b[39;00m i \u001b[38;5;129;01min\u001b[39;00m \u001b[38;5;28mrange\u001b[39m(\u001b[38;5;28mlen\u001b[39m(x)):\n\u001b[0;32m----> 5\u001b[0m     omega \u001b[38;5;241m+\u001b[39m\u001b[38;5;241m=\u001b[39m calculate_omega(observations[i], \u001b[43mmaterial_model\u001b[49m(candidate, x[i]))\n\u001b[1;32m      6\u001b[0m \u001b[38;5;28;01mreturn\u001b[39;00m pi(omega, sigma)\n",
      "\u001b[0;31mNameError\u001b[0m: name 'material_model' is not defined"
     ]
    }
   ],
   "source": [
    "# subset = random_draw(n_observations, 2)\n",
    "\n",
    "subset = np.random.randint(len(strain_observed), size=2)\n",
    "\n",
    "prior = set_prior(prior_distribution, 150, 50)\n",
    "likelihood = set_likelihood(\n",
    "    likelihood_distribution, 0.01, stress_observed[subset], strain_observed[subset]\n",
    ")\n",
    "candidate_parameter = np.linspace(0, 300, 1000)\n",
    "posterior = grid_search(prior, likelihood, candidate_parameter)\n",
    "\n",
    "[m, c] = linear_regression(strain_data[subset], stress_data[subset])\n",
    "\n",
    "plot_posterior(candidate_parameter, prior, posterior, E, m)\n",
    "add_labels(\"Posterior distribution - 2 observations\", \"E\", \"$\\pi$\")\n",
    "\n",
    "plot_regression_results(strain, E, m, c)\n",
    "plt.scatter(strain_data, stress_data, alpha=0.25)\n",
    "plt.scatter(strain_data[subset], stress_data[subset], color=\"C2\");"
   ]
  },
  {
   "cell_type": "markdown",
   "id": "1ba32056",
   "metadata": {},
   "source": [
    "### 10 observations"
   ]
  },
  {
   "cell_type": "code",
   "execution_count": null,
   "id": "761a9767",
   "metadata": {},
   "outputs": [],
   "source": [
    "prior = set_prior(prior_distribution, 150, 50)\n",
    "likelihood = set_likelihood(likelihood_distribution, 0.01, stress_data, strain_data)\n",
    "candidate_parameter = np.linspace(0, 300, 1000)\n",
    "posterior = grid_search(prior, likelihood, candidate_parameter)\n",
    "\n",
    "[m, c] = linear_regression(strain_data, stress_data)\n",
    "\n",
    "plot_posterior(candidate_parameter, prior, posterior, E, m)\n",
    "add_labels(\"Posterior distribution - 10 observations\", \"E\", \"$\\pi$\")\n",
    "\n",
    "plot_regression_results(strain, E, m, c)\n",
    "plt.scatter(strain_data, stress_data);"
   ]
  },
  {
   "cell_type": "markdown",
   "id": "8c992336",
   "metadata": {},
   "source": [
    "## Maximum a posteriori probability (MAP) estimate\n",
    "\n",
    "Calculate the maximum a posteriori probability (MAP) point - the point at which the posterior distribution is (globally) maximum"
   ]
  },
  {
   "cell_type": "code",
   "execution_count": null,
   "id": "94b6e7d8",
   "metadata": {},
   "outputs": [],
   "source": [
    "def estimate_map_point(x, pdf, burn=0):\n",
    "    x_burned = x[burn:]\n",
    "    pdf_burned = pdf[burn:]\n",
    "    return x_burned[np.argmax(pdf_burned)]"
   ]
  },
  {
   "cell_type": "code",
   "execution_count": null,
   "id": "bcd0f29d",
   "metadata": {},
   "outputs": [],
   "source": [
    "map_point = estimate_map_point(candidate_parameter, posterior)\n",
    "print(\"The estimated MAP point is {:.2f} GPa\".format(map_point))"
   ]
  },
  {
   "cell_type": "markdown",
   "id": "4e35fe67",
   "metadata": {},
   "source": [
    "## 95% credible region\n",
    "\n",
    "The 95% credible region is the region that contains 95% of the posterior"
   ]
  },
  {
   "cell_type": "code",
   "execution_count": null,
   "id": "6f214f9e",
   "metadata": {},
   "outputs": [],
   "source": [
    "def compute_credible_interval(posterior, interval=0.95):\n",
    "    pass"
   ]
  },
  {
   "cell_type": "markdown",
   "id": "2dbee1ce",
   "metadata": {},
   "source": [
    "## 95% prediction interval"
   ]
  },
  {
   "cell_type": "markdown",
   "id": "741c847a",
   "metadata": {},
   "source": [
    "## Metropolis-Hastings\n",
    "\n",
    "Once the posterior is constructed, it needs to be analysed to determine the statistical summaries. For the linear elastic case, the statistical summaries were establised analytically and by employing a grid search method (i.e.  exhaustively searching through a specified subset of the parameter space).\n",
    "\n",
    "When the search space becomes larger, or the model is expensive to evaluate, it can become infeasible to do an exhaustive search and we must turn to randomised searches (Monte Carlo methods etc). There are many libraries for searching the posterior but we will implement a [Metropolis-Hastings](https://en.wikipedia.org/wiki/Metropolis%E2%80%93Hastings_algorithm) sampler to help develop undersanding. Note that I stole the code for the sampler from this [blog](https://colindcarroll.com/2018/11/24/animated-mcmc-with-matplotlib/) by Colin Carroll."
   ]
  },
  {
   "cell_type": "code",
   "execution_count": null,
   "id": "fb07d6e3",
   "metadata": {},
   "outputs": [],
   "source": [
    "def mh_sampler(pi, steps=3000, step_size=5, init=0):\n",
    "    \"\"\"\n",
    "    Metropolis-Hastings sampler with a normal proposal\n",
    "    \"\"\"\n",
    "    point = init\n",
    "    samples = []\n",
    "    pdf = []\n",
    "    for _ in range(int(steps)):\n",
    "        proposal = np.random.normal(point, step_size)\n",
    "        if np.random.rand() < pi(proposal) / pi(point):\n",
    "            point = proposal\n",
    "        samples.append(point)\n",
    "        pdf.append(pi(point))\n",
    "    return np.array(samples), np.array(pdf)"
   ]
  },
  {
   "cell_type": "code",
   "execution_count": null,
   "id": "4d9719f4",
   "metadata": {},
   "outputs": [],
   "source": [
    "def set_posterior(calc_prior, calc_likelihood, observations, x):\n",
    "    def wrapper(candidate):\n",
    "        return calc_posterior(calc_prior(candidate), calc_likelihood(candidate))\n",
    "\n",
    "    return wrapper"
   ]
  },
  {
   "cell_type": "code",
   "execution_count": null,
   "id": "a513ed71",
   "metadata": {},
   "outputs": [],
   "source": [
    "prior = set_prior(prior_distribution, 150, 50)\n",
    "likelihood = set_likelihood(likelihood_distribution, 0.01, stress_data, strain_data)\n",
    "\n",
    "samples, pdf = mh_sampler(\n",
    "    set_posterior(prior, likelihood, stress_data, strain_data),\n",
    "    steps=1e5,\n",
    "    step_size=2.5,\n",
    "    init=150,\n",
    ")\n",
    "plt.plot(samples)\n",
    "plt.axhline(E, ls=\"--\", color=\"dimgray\")\n",
    "add_labels(\"Chain\", \"Sample\", \"E\")"
   ]
  },
  {
   "cell_type": "code",
   "execution_count": null,
   "id": "83f03036",
   "metadata": {},
   "outputs": [],
   "source": [
    "plt.scatter(samples[1000:], pdf[1000:])\n",
    "plt.axvline(E, ls=\"--\", color=\"dimgray\")\n",
    "add_labels(\"Posterior distribution\", \"E\", \"$\\pi$\")"
   ]
  },
  {
   "cell_type": "code",
   "execution_count": null,
   "id": "6f9e1a21",
   "metadata": {},
   "outputs": [],
   "source": [
    "map_point = estimate_map_point(samples, pdf, burn=0)\n",
    "print(\"The estimated MAP point is {:.2f} GPa\".format(map_point))"
   ]
  },
  {
   "cell_type": "markdown",
   "id": "8bd0fd6b",
   "metadata": {},
   "source": [
    "## Adaptive Metropolis-Hastings"
   ]
  },
  {
   "cell_type": "code",
   "execution_count": null,
   "id": "28fa2a90",
   "metadata": {},
   "outputs": [],
   "source": [
    "data = [strain_data, stress_data]\n",
    "model.set_prior(150, 50)\n",
    "mh = AdaptiveMetropolisHastings(model, data, n_samples=1e5)\n",
    "\n",
    "x_0 = np.array([150])  # Initial sample\n",
    "x_hist, pdf_hist, accept_rate = mh.sample(x_0)"
   ]
  },
  {
   "cell_type": "code",
   "execution_count": null,
   "id": "0e3cdcb1",
   "metadata": {
    "scrolled": true
   },
   "outputs": [],
   "source": [
    "x_candidate = np.array([210])\n",
    "print(model.posterior(strain_data, stress_data, x_candidate))\n",
    "\n",
    "pi = set_posterior(prior, likelihood, stress_data, strain_data)\n",
    "print(pi(210))"
   ]
  },
  {
   "cell_type": "code",
   "execution_count": null,
   "id": "81937935",
   "metadata": {},
   "outputs": [],
   "source": [
    "# Density plot of the Markov chain values - use kernel density estimation or marginal distribution? Look at Seaborn?\n",
    "fig, ax1 = plt.subplots(1, 1, figsize=(6, 4))\n",
    "ax1.scatter(x_hist[1000:], pdf_hist[1000:])\n",
    "ax1.axvline(E, ls=\"--\", color=\"dimgray\");"
   ]
  },
  {
   "cell_type": "code",
   "execution_count": null,
   "id": "1dcdd2b3",
   "metadata": {},
   "outputs": [],
   "source": [
    "fig, ax1 = plt.subplots(1, sharex=True, figsize=(7.5, 3))\n",
    "ax1.plot(x_hist)\n",
    "ax1.axhline(E, ls=\"--\", color=\"dimgray\");"
   ]
  },
  {
   "cell_type": "markdown",
   "id": "6cf106a0-ac4d-4d53-a426-dc37dc80a62a",
   "metadata": {},
   "source": [
    "## x. Summary\n",
    "\n",
    "We will finish by summarising the **Bayesian workflow**:\n",
    "\n",
    "1. **Define the Problem**: Clearly articulate the problem you are trying to solve or the question you are aiming to answer.\n",
    "\n",
    "2. **Prior Knowledge**: Gather any existing knowledge or beliefs about the problem. This is represented as the prior probability distribution.\n",
    "\n",
    "3. **Collect Data**: Gather relevant data that can inform the problem or question at hand.\n",
    "\n",
    "4. **Likelihood Function**: Establish a mathematical model that describes how the data are related to the parameters of interest. This is known as the likelihood function.\n",
    "\n",
    "5. **Bayes' Theorem**: Apply Bayes' theorem, which updates our prior beliefs in light of the observed data, to calculate the posterior probability distribution. Bayes' theorem states that the posterior probability is proportional to the product of the likelihood function and the prior probability.\n",
    "\n",
    "6. **Posterior Inference**: Analyse the posterior distribution to draw conclusions or make predictions. This might involve calculating summary statistics, credible intervals, or making comparisons between different parameter values.\n",
    "\n",
    "7. **Validation and Sensitivity Analysis**: Validate the results obtained by checking the model's fit to the data and its sensitivity to changes in assumptions or prior specifications.\n",
    "\n",
    "8. **Decision Making**: Use the posterior distribution to make decisions or take actions based on the analysis. This could involve choosing the most probable parameter values, making predictions, or assessing the uncertainty associated with different outcomes.\n",
    "\n",
    "9. **Iterative Process**: Bayesian analysis is often an iterative process, where the model is refined, additional data are collected, and the analysis is updated based on new information.\n",
    "\n",
    "10. **Communication**: Communicate the results and conclusions effectively, including any uncertainties or assumptions made during the analysis, to stakeholders or decision-makers.\n",
    "\n",
    "By following these steps, the Bayesian workflow allows for a systematic and principled approach to solving problems and making decisions under uncertainty."
   ]
  }
 ],
 "metadata": {
  "kernelspec": {
   "display_name": "Python 3 (ipykernel)",
   "language": "python",
   "name": "python3"
  },
  "language_info": {
   "codemirror_mode": {
    "name": "ipython",
    "version": 3
   },
   "file_extension": ".py",
   "mimetype": "text/x-python",
   "name": "python",
   "nbconvert_exporter": "python",
   "pygments_lexer": "ipython3",
   "version": "3.11.6"
  },
  "vscode": {
   "interpreter": {
    "hash": "5c7b89af1651d0b8571dde13640ecdccf7d5a6204171d6ab33e7c296e100e08a"
   }
  }
 },
 "nbformat": 4,
 "nbformat_minor": 5
}
