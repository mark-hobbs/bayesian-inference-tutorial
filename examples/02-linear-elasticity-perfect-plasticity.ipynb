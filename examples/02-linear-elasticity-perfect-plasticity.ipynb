{
 "cells": [
  {
   "cell_type": "markdown",
   "id": "0f02e30e",
   "metadata": {},
   "source": [
    "# 2. Linear Elasticity-Perfect Plasticity\n",
    "\n",
    "This example can be found in Section 5.3 in the following paper: [A Tutorial on Bayesian Inference to Identify Material Parameters in Solid Mechanics](https://doi.org/10.1007/s11831-018-09311-x)"
   ]
  },
  {
   "cell_type": "code",
   "execution_count": 1,
   "id": "85181315",
   "metadata": {},
   "outputs": [],
   "source": [
    "import numpy as np\n",
    "import matplotlib.pyplot as plt\n",
    "import scipy.stats\n",
    "\n",
    "plt.rcParams.update(\n",
    "    {\n",
    "        \"text.usetex\": True,\n",
    "        \"font.family\": \"sans-serif\",\n",
    "        \"font.sans-serif\": [\"Times New Roman\"],\n",
    "    }\n",
    ")\n",
    "plt.rcParams[\"font.family\"] = \"Times New Roman\""
   ]
  },
  {
   "cell_type": "markdown",
   "id": "23722d74-9150-481b-9a64-4e3144237f09",
   "metadata": {},
   "source": [
    "## 1. Experimental observations\n",
    "\n",
    "![](figures/linear-elastic-perfectly-plastic-experimental-observations.png)"
   ]
  },
  {
   "cell_type": "markdown",
   "id": "2fb1f4fb-d272-4a13-9793-29a000c092e9",
   "metadata": {},
   "source": [
    "## 2. Material model"
   ]
  },
  {
   "cell_type": "code",
   "execution_count": 2,
   "id": "32c044c1-1858-4bea-819e-79916d2851c4",
   "metadata": {},
   "outputs": [],
   "source": [
    "def compute_stress(E, stress_y, strains):\n",
    "    \"\"\"\n",
    "    Linear elastic-perfectly plastic material\n",
    "    \"\"\"\n",
    "    stress = []\n",
    "    strain_y = stress_y / E\n",
    "    \n",
    "    for strain in strains:\n",
    "        if strain <= strain_y:\n",
    "            stress.append(E * strain)\n",
    "        else:\n",
    "            stress.append(stress_y)\n",
    "\n",
    "    return stress"
   ]
  },
  {
   "cell_type": "code",
   "execution_count": 3,
   "id": "3d008751-9a42-4855-8702-3128c691f47c",
   "metadata": {},
   "outputs": [
    {
     "data": {
      "image/png": "[encoded data removed]",
      "text/plain": [
       "<Figure size 500x350 with 1 Axes>"
      ]
     },
     "metadata": {},
     "output_type": "display_data"
    }
   ],
   "source": [
    "E = 210\n",
    "stress_y = 0.25\n",
    "strain = np.linspace(0, 2.5e-3, 100)\n",
    "stress = compute_stress(E, stress_y, strain)\n",
    "\n",
    "plt.figure(figsize=(5, 3.5))\n",
    "plt.plot(strain, stress, label=f\"E = {E} GPa\")\n",
    "plt.title(\"Material model\")\n",
    "plt.xlabel(\"Strain $\\epsilon$\")\n",
    "plt.ylabel(\"Stress $\\sigma$\")\n",
    "plt.legend()\n",
    "plt.savefig(\"figures/linear-elastic-perfectly-plastic-material-model.png\", dpi=300)"
   ]
  },
  {
   "cell_type": "code",
   "execution_count": 4,
   "id": "2770293b-20b9-4575-a7ac-a22a3d58015c",
   "metadata": {},
   "outputs": [],
   "source": [
    "class BaseModel:\n",
    "    \"\"\"\n",
    "    Base class for models used in Bayesian inference.\n",
    "\n",
    "    Subclasses must implement the __call__ method.\n",
    "    \"\"\"\n",
    "\n",
    "    def __call__(self, *args, **kwargs):\n",
    "        \"\"\"\n",
    "        Define the behaviour of the model.\n",
    "\n",
    "        Parameters\n",
    "        ----------\n",
    "        *args : tuple\n",
    "            Positional arguments.\n",
    "\n",
    "        **kwargs : dict\n",
    "            Keyword arguments.\n",
    "\n",
    "        Returns\n",
    "        -------\n",
    "        Any\n",
    "            The output of the model.\n",
    "        \"\"\"\n",
    "        raise NotImplementedError(\"Subclasses must implement __call__ method.\")\n",
    "\n",
    "\n",
    "class LinearElasticPerfectlyPlastic(BaseModel):\n",
    "    \"\"\"\n",
    "    Linear elastic-perfectly plastic material\n",
    "\n",
    "    Attributes:\n",
    "    -----------\n",
    "    x_observed : float\n",
    "        The observed value of the independent variables.\n",
    "    \"\"\"\n",
    "\n",
    "    def __init__(self, x_observed):\n",
    "        \"\"\"\n",
    "        Parameters\n",
    "        ----------\n",
    "        x_observed : float\n",
    "            The observed value of the independent variables.\n",
    "        \"\"\"\n",
    "        self.x_observed = x_observed\n",
    "\n",
    "    def __call__(self, parameters):\n",
    "        \"\"\"\n",
    "        Compute stress based on the provided parameters.\n",
    "\n",
    "        Parameters\n",
    "        ----------\n",
    "        parameters : tuple or list\n",
    "            Model parameters. For a linear elastic-perfectly model, it should contain\n",
    "            two parameters representing the Young's Modulus and Yield Stress.\n",
    "\n",
    "        Returns\n",
    "        -------\n",
    "        stress : float\n",
    "            Computed stress.\n",
    "        \"\"\"\n",
    "        if len(parameters) != 2:\n",
    "            raise ValueError(\"LinearElasticPerfectlyPlastic model expects two parameters.\")\n",
    "    \n",
    "        E = parameters[0]\n",
    "        strain_y = parameters[1]\n",
    "        \n",
    "        stress = []\n",
    "        strain_y = stress_y / E\n",
    "        \n",
    "        for strain in self.x_observed:\n",
    "            if strain <= strain_y:\n",
    "                stress.append(E * strain)\n",
    "            else:\n",
    "                stress.append(stress_y)\n",
    "        \n",
    "        return stress"
   ]
  },
  {
   "cell_type": "markdown",
   "id": "9ec0758d-1cfd-4c04-aad3-17597550cf74",
   "metadata": {},
   "source": [
    "## 3. Genererating synthetic data"
   ]
  },
  {
   "cell_type": "code",
   "execution_count": 5,
   "id": "48f982a9-ba09-4737-9b88-4fdbb619b197",
   "metadata": {},
   "outputs": [
    {
     "data": {
      "text/plain": [
       "<matplotlib.legend.Legend at 0x136474450>"
      ]
     },
     "execution_count": 5,
     "metadata": {},
     "output_type": "execute_result"
    },
    {
     "data": {
      "image/png": "[encoded data removed]",
      "text/plain": [
       "<Figure size 500x350 with 1 Axes>"
      ]
     },
     "metadata": {},
     "output_type": "display_data"
    }
   ],
   "source": [
    "sigma = 0.005  # standard deviation of the noise\n",
    "n_observations = 100\n",
    "x = np.linspace(0, 2.5e-3, 100)\n",
    "strain_observed = np.random.choice(x, n_observations)\n",
    "stress_observed = compute_stress(E, stress_y, strain_observed) + np.random.normal(scale=sigma, size=strain_observed.shape[0])\n",
    "\n",
    "plt.figure(figsize=(5, 3.5))\n",
    "plt.scatter(strain_observed, stress_observed, label='Observation')\n",
    "plt.title(\"Experimental observations\")\n",
    "plt.xlabel(\"Strain $\\epsilon$\")\n",
    "plt.ylabel(\"Stress $\\sigma$\")\n",
    "plt.legend()\n",
    "# plt.savefig(\"figures/linear-elastic-perfectly-plastic-experimental-observations.png\", dpi=300)"
   ]
  },
  {
   "cell_type": "markdown",
   "id": "ea0ae960-34b4-41fa-888e-638438d3d98e",
   "metadata": {},
   "source": [
    "## 4. Prior"
   ]
  },
  {
   "cell_type": "code",
   "execution_count": 6,
   "id": "013434e4-7ad5-4e0f-ba25-6ac80ab758e1",
   "metadata": {},
   "outputs": [],
   "source": [
    "class Prior:\n",
    "    \n",
    "    def __init__(self, mean=np.array([0, 0]), std_dev=np.array([1, 1])):\n",
    "        \"\"\"\n",
    "        Initialise the multivariate normal prior distribution.\n",
    "\n",
    "        Parameters\n",
    "        ----------\n",
    "        mean : array-like, optional\n",
    "            Mean vector of the multivariate normal distribution. Default is np.array([0, 0]).\n",
    "            \n",
    "        std_dev : array-like\n",
    "            Standard deviation vector of the multivariate normal distribution. Default is np.array([1, 1]).\n",
    "        \"\"\"\n",
    "        self.mean = np.array(mean)\n",
    "        self.std_dev = np.array(std_dev)\n",
    "        self.cov = np.diag(self.std_dev**2)\n",
    "\n",
    "    def evaluate(self, x):\n",
    "        \"\"\"\n",
    "        Evaluate the prior function at the given value(s) of x.\n",
    "\n",
    "        Parameters\n",
    "        ----------\n",
    "        x : array-like\n",
    "            The value(s) at which to evaluate the prior function.\n",
    "\n",
    "        Returns\n",
    "        -------\n",
    "        array-like\n",
    "            The prior probability density at the given value(s).\n",
    "        \"\"\"\n",
    "        return scipy.stats.multivariate_normal.pdf(x, mean=self.mean, cov=self.cov)\n",
    "\n",
    "    def plot(self, x_values):\n",
    "        \"\"\"\n",
    "        Plot the prior function over a range of x values.\n",
    "\n",
    "        Parameters\n",
    "        ----------\n",
    "        x_values : array-like\n",
    "            The range of x values for plotting.\n",
    "        \"\"\"\n",
    "        prior_values = self.evaluate(x_values)\n",
    "        # plt.contourf()"
   ]
  },
  {
   "cell_type": "markdown",
   "id": "9c30f4fd-5140-44dc-9440-d21a60399982",
   "metadata": {},
   "source": [
    "## 5. Likelihood"
   ]
  },
  {
   "cell_type": "code",
   "execution_count": 7,
   "id": "5c67225d-1a5f-414e-8c2d-ba2ce7395947",
   "metadata": {},
   "outputs": [],
   "source": [
    "class Likelihood:\n",
    "\n",
    "    def __init__(self, y, sigma, model):\n",
    "        \"\"\"\n",
    "        y : ndarray\n",
    "            Observed data\n",
    "        \"\"\"\n",
    "        self.y = y\n",
    "        self.sigma = sigma\n",
    "        self.model = model\n",
    "\n",
    "    def evaluate(self, x):\n",
    "        \"\"\"\n",
    "        x : float or array-like\n",
    "            The value(s) of the model parameters.\n",
    "        \"\"\"\n",
    "        residual = self._compute_residual(x)\n",
    "        return 1 / (self.sigma * np.sqrt(2 * np.pi)) * np.exp(-0.5 * (residual ** 2 / self.sigma))\n",
    "\n",
    "    def _compute_residual(self, x):\n",
    "        return np.sum(self.y - self.model(x))"
   ]
  },
  {
   "cell_type": "markdown",
   "id": "0d52e978-feba-40b9-b1a4-8ecd4e5231bc",
   "metadata": {},
   "source": [
    "## 6. Posterior"
   ]
  },
  {
   "cell_type": "code",
   "execution_count": 8,
   "id": "6623ecfe-f42b-40df-8afc-c76113d83b02",
   "metadata": {},
   "outputs": [],
   "source": [
    "class Posterior:\n",
    "\n",
    "    def __init__(self, prior, likelihood):\n",
    "        self.prior = prior\n",
    "        self.likelihood = likelihood\n",
    "\n",
    "    def evaluate(self, x):\n",
    "        \"\"\"\n",
    "        Compute the posterior distribution for given model parameters and observed data.\n",
    "\n",
    "        Parameters\n",
    "        ----------\n",
    "        x : float or array-like\n",
    "            The value(s) of the model parameters.\n",
    "\n",
    "        Returns\n",
    "        -------\n",
    "        float or array-like\n",
    "            The posterior probability distribution for the given model parameters.\n",
    "        \"\"\"\n",
    "        return self.prior.evaluate(x) * self.likelihood.evaluate(x)"
   ]
  },
  {
   "cell_type": "code",
   "execution_count": 9,
   "id": "e5bcbaad-51a1-4886-a84a-045d0bd112f2",
   "metadata": {},
   "outputs": [],
   "source": [
    "model = LinearElasticPerfectlyPlastic(strain_observed)\n",
    "prior = Prior(mean=np.array([200, 0.29]), std_dev=np.array([25, 0.1]))\n",
    "likelihood = Likelihood(stress_observed, 0.01, model)\n",
    "posterior = Posterior(prior, likelihood)"
   ]
  },
  {
   "cell_type": "markdown",
   "id": "47eb9858-93fb-4da9-95d9-2dc84a5770d6",
   "metadata": {},
   "source": [
    "## 7. Standard Metropolis Hastings"
   ]
  },
  {
   "cell_type": "code",
   "execution_count": 10,
   "id": "447dda74-3883-47e5-be0e-2fcfca6126cf",
   "metadata": {},
   "outputs": [],
   "source": [
    "def mh_sampler(posterior, steps=3000, step_size=5, init=0):\n",
    "    \"\"\"\n",
    "    Metropolis-Hastings sampler with a normal proposal\n",
    "    \"\"\"\n",
    "    point = init\n",
    "    samples = []\n",
    "    pdf = []\n",
    "    for _ in range(int(steps)):\n",
    "        proposal = np.random.normal(point, step_size)\n",
    "        if np.random.rand() < posterior.evaluate(proposal) / posterior.evaluate(point):\n",
    "            point = proposal\n",
    "        samples.append(point)\n",
    "        pdf.append(posterior.evaluate(point))\n",
    "    return np.array(samples), np.array(pdf)"
   ]
  },
  {
   "cell_type": "code",
   "execution_count": 17,
   "id": "d178e0af-797d-49d6-a76f-1404f05b6c74",
   "metadata": {
    "scrolled": true
   },
   "outputs": [],
   "source": [
    "samples, pdf = mh_sampler(\n",
    "    posterior,\n",
    "    steps=1e5,\n",
    "    step_size=np.array([2.5, 0.05]),\n",
    "    init=np.array([150, 0.15])\n",
    ")"
   ]
  },
  {
   "cell_type": "code",
   "execution_count": 18,
   "id": "db6eb90a-e7ae-401d-a7c9-d2c56e9a9bc2",
   "metadata": {},
   "outputs": [
    {
     "data": {
      "image/png": "[encoded data removed]",
      "text/plain": [
       "<Figure size 1200x500 with 2 Axes>"
      ]
     },
     "metadata": {},
     "output_type": "display_data"
    }
   ],
   "source": [
    "fig, (ax1, ax2) = plt.subplots(1, 2, figsize=(12, 5))\n",
    "ax1.plot(samples[:, 0])\n",
    "ax2.plot(samples[:, 1])\n",
    "ax1.set_xlabel(\"$E$\")\n",
    "ax2.set_xlabel(\"$\\epsilon$\")\n",
    "plt.tight_layout()"
   ]
  },
  {
   "cell_type": "code",
   "execution_count": 19,
   "id": "9d0675a0-db83-4c79-9b1a-43e3b9eaf416",
   "metadata": {},
   "outputs": [
    {
     "data": {
      "image/png": "[encoded data removed]",
      "text/plain": [
       "<Figure size 1200x500 with 2 Axes>"
      ]
     },
     "metadata": {},
     "output_type": "display_data"
    }
   ],
   "source": [
    "fig, (ax1, ax2) = plt.subplots(1, 2, figsize=(12, 5))\n",
    "\n",
    "ax1.hist(samples[1000:, 0], bins=100, density=True, alpha=0.75, color='skyblue')\n",
    "ax1.axvline(E, ls=\"--\", color=\"dimgray\")\n",
    "\n",
    "ax2.hist(samples[1000:, 1], bins=100, density=True, alpha=0.75, color='skyblue')\n",
    "ax2.axvline(stress_y, ls=\"--\", color=\"dimgray\");"
   ]
  },
  {
   "cell_type": "code",
   "execution_count": 20,
   "id": "652dd113-3c89-425f-923d-03ab3d8ff7d9",
   "metadata": {},
   "outputs": [
    {
     "data": {
      "text/plain": [
       "<matplotlib.legend.Legend at 0x2a4009cd0>"
      ]
     },
     "execution_count": 20,
     "metadata": {},
     "output_type": "execute_result"
    },
    {
     "data": {
      "image/png": "[encoded data removed]",
      "text/plain": [
       "<Figure size 800x500 with 1 Axes>"
      ]
     },
     "metadata": {},
     "output_type": "display_data"
    }
   ],
   "source": [
    "predictions = np.array([compute_stress(sample[0], sample[1], strain) for sample in samples])\n",
    "\n",
    "posterior_predictive_mean = np.mean(predictions, axis=0)\n",
    "posterior_predictive_std = np.std(predictions, axis=0)\n",
    "\n",
    "fig, ax1 = plt.subplots(figsize=(8, 5))\n",
    "\n",
    "ax1.scatter(strain_observed, stress_observed, color='blue', label='Observation')\n",
    "ax1.plot(strain, stress, 'k--', label='True')\n",
    "ax1.plot(strain, posterior_predictive_mean, color='red', label='Posterior Predictive Mean')\n",
    "ax1.fill_between(strain,\n",
    "                 posterior_predictive_mean - 2 * posterior_predictive_std,\n",
    "                 posterior_predictive_mean + 2 * posterior_predictive_std,\n",
    "                 color='red', alpha=0.2, label='Posterior Predictive Distribution')\n",
    "ax1.set_xlabel('Strain $\\epsilon$')\n",
    "ax1.set_ylabel('Stress $\\sigma$')\n",
    "ax1.legend()\n"
   ]
  },
  {
   "cell_type": "markdown",
   "id": "63f89120-e7f5-44af-aed9-be89a77f70b0",
   "metadata": {},
   "source": [
    "## 8. Adaptive Metropolis Hastings (`Sampler` class)"
   ]
  },
  {
   "cell_type": "code",
   "execution_count": 15,
   "id": "85853fbe-126b-4bbe-8e39-4992a9dfadf1",
   "metadata": {},
   "outputs": [],
   "source": [
    "class Sampler:\n",
    "\n",
    "    def __init__(self, posterior, steps, step_size, init):\n",
    "        self.posterior = posterior\n",
    "        self.steps = steps\n",
    "        self.step_size = step_size\n",
    "        self.init = init\n",
    "\n",
    "        self.samples = []\n",
    "\n",
    "    def proposal(self):\n",
    "        pass\n",
    "\n",
    "    def acceptance_probability(self):\n",
    "        pass\n",
    "\n",
    "class MetropolisHastings(Sampler):\n",
    "    pass"
   ]
  },
  {
   "cell_type": "markdown",
   "id": "189cd717",
   "metadata": {},
   "source": [
    "## Constitutive model and *true* material parameters\n",
    "\n",
    "It is assumed that the behaviour of the material specimen can be accurately described by a linear elastic-perfectly plastic law that is defined by two parameters: (1) Young's modulus $E$ and (2) yield stress $\\sigma_{y0}$.\n",
    "\n",
    "The stress-strain response of the linear elastic-perfectly plastic model during monotonic tension can be written as:\n",
    "\n",
    "$$\\sigma(\\epsilon, \\textbf{x}) = \n",
    "    \\begin{cases}\n",
    "        E\\epsilon \\quad \\text{if} \\quad \\epsilon \\leqslant \\frac{\\sigma_{y0}}{E} \\\\\n",
    "        \\sigma_{y0} \\quad \\text{if} \\quad \\epsilon > \\frac{\\sigma_{y0}}{E}\n",
    "    \\end{cases}$$\n",
    "\n",
    "Where $\\textbf{x}$ is the parameter vector:\n",
    "\n",
    "$$\\textbf{x} = [E \\; \\sigma_{y0}]^T$$\n",
    "\n",
    "and $E$ is the Young's modulus and $\\sigma_{y0}$ is the initial yield stress. Using the Heaviside step function $h$, the stress-strain response of the linear elastic-perfectly plastic model can alternatively be expressed as:\n",
    "\n",
    "$$\\sigma(\\epsilon, \\textbf{x}) = E\\epsilon\\left(1 - h\\left(\\epsilon - \\frac{\\sigma_{y0}}{E}\\right)\\right) + \\sigma_{y0}h\\left(\\epsilon - \\frac{\\sigma_{y0}}{E}\\right)$$\n",
    "\n",
    "The *true* material parameters that we are attempting to identify (infer) are:\n",
    "\n",
    "$$E = 210 \\; \\textrm{GPa} \\quad \\sigma_{y0} = 0.25 \\; \\textrm{GPa}$$\n",
    "\n",
    "The *true* stress-strain response is illustrated in the following figure."
   ]
  },
  {
   "cell_type": "code",
   "execution_count": 16,
   "id": "ecbda677",
   "metadata": {},
   "outputs": [
    {
     "ename": "NameError",
     "evalue": "name 'LEPP' is not defined",
     "output_type": "error",
     "traceback": [
      "\u001b[0;31m---------------------------------------------------------------------------\u001b[0m",
      "\u001b[0;31mNameError\u001b[0m                                 Traceback (most recent call last)",
      "Cell \u001b[0;32mIn[16], line 5\u001b[0m\n\u001b[1;32m      2\u001b[0m stress_y \u001b[38;5;241m=\u001b[39m \u001b[38;5;241m0.25\u001b[39m  \u001b[38;5;66;03m# Yield stress (GPa)\u001b[39;00m\n\u001b[1;32m      3\u001b[0m s_noise \u001b[38;5;241m=\u001b[39m \u001b[38;5;241m0.01\u001b[39m  \u001b[38;5;66;03m# Noise in the stress measurement (GPa)\u001b[39;00m\n\u001b[0;32m----> 5\u001b[0m model \u001b[38;5;241m=\u001b[39m \u001b[43mLEPP\u001b[49m(E, stress_y, s_noise)\n\u001b[1;32m      6\u001b[0m strain \u001b[38;5;241m=\u001b[39m np\u001b[38;5;241m.\u001b[39mlinspace(\u001b[38;5;241m0\u001b[39m, \u001b[38;5;241m2.5e-3\u001b[39m, \u001b[38;5;241m100\u001b[39m)\n\u001b[1;32m      7\u001b[0m model\u001b[38;5;241m.\u001b[39mstress_strain_response(strain)\n",
      "\u001b[0;31mNameError\u001b[0m: name 'LEPP' is not defined"
     ]
    }
   ],
   "source": [
    "E = 210  # Young's modulus (GPa)\n",
    "stress_y = 0.25  # Yield stress (GPa)\n",
    "s_noise = 0.01  # Noise in the stress measurement (GPa)\n",
    "\n",
    "model = LEPP(E, stress_y, s_noise)\n",
    "strain = np.linspace(0, 2.5e-3, 100)\n",
    "model.stress_strain_response(strain)"
   ]
  },
  {
   "cell_type": "markdown",
   "id": "e948e728",
   "metadata": {},
   "source": [
    "## Noisy experimental observations (stress-strain response)\n",
    "\n",
    "The experimental observations are contaminated by noise. Note that only the stress measurement is contaminated by noise but we will consider an example later where the strain measurement is also contaminated by noise.\n",
    "\n",
    "The observations are generated numerically so that they deviate from the true constitutive model. The noise $\\Omega$ in the stress measurements has a normal distribution with a zero mean and a standard deviation of $s_{noise}$. The number of generated observations can be selected by the user. They will note that increasing the number of observations reduces the uncertainty in the estimates of the material parameters."
   ]
  },
  {
   "cell_type": "code",
   "execution_count": null,
   "id": "ed794980",
   "metadata": {},
   "outputs": [],
   "source": [
    "strain_data, stress_data = model.generate_synthetic_data(\n",
    "    strain, 12, seed=12345\n",
    ")  # seed=54321\n",
    "plt.scatter(strain_data, stress_data)\n",
    "add_labels(\"Noisy experimental observations\", \"Strain $\\epsilon$\", \"Stress $\\sigma$\")"
   ]
  },
  {
   "cell_type": "markdown",
   "id": "bff82a3c",
   "metadata": {},
   "source": [
    "## Likelihood $\\pi(y|\\textbf{x})$\n",
    "\n",
    "The likelihood function for a single stress measurement is given by the following equation\n",
    "\n",
    "$$\\pi(y|\\textbf{x}) = \\pi_{noise}(y - \\sigma(\\epsilon, \\textbf{x})) = \\frac{1}{s_{noise}\\sqrt{2\\pi}}exp\\left(-{\\frac{\\left(y - \\sigma(\\epsilon, \\textbf{x})\\right)^2}{2s^2_{noise}}}\\right)$$\n",
    "\n",
    "$$\\pi(y|\\textbf{x}) = \\frac{1}{s_{noise}\\sqrt{2\\pi}}exp\\left(-{\\frac{\\left(y - E\\epsilon\\left(1 - h\\left(\\epsilon - \\frac{\\sigma_{y0}}{E}\\right)\\right) - \\sigma_{y0}h\\left(\\epsilon - \\frac{\\sigma_{y0}}{E}\\right)\\right)^2}{2s^2_{noise}}}\\right)$$"
   ]
  },
  {
   "cell_type": "markdown",
   "id": "85aa8561",
   "metadata": {},
   "source": [
    "## Prior $\\pi(\\textbf{x})$\n",
    "\n",
    "Choosing the prior distribution in the form of a modified normal distribution:\n",
    "\n",
    "$$\\pi(\\textbf{x}) = exp\\left(-\\frac{(\\textbf{x}-\\overline{\\textbf{x}})^T\\Gamma^{-1}(\\textbf{x}-\\overline{\\textbf{x}})}{2} \\right)$$\n",
    "\n",
    "The following mean vector (prior candidate vector) and convariance matrix are selected:\n",
    "\n",
    "$$\\overline{\\textbf{x}} = \\begin{bmatrix} 200 \\\\ 0.29 \\end{bmatrix} \\; \\text{GPa}, \\quad \\Gamma_\\textbf{x} = \\begin{bmatrix} 2500 & 0 \\\\ 0 & 2.7778 \\times 10^{-4} \\end{bmatrix} \\; \\text{GPa}^2$$"
   ]
  },
  {
   "cell_type": "code",
   "execution_count": null,
   "id": "80ddbed4",
   "metadata": {},
   "outputs": [],
   "source": [
    "x_prior = np.array([[200], [0.29]])  # Mean vector (GPa)\n",
    "cov_matrix_prior = np.array([[2500, 0], [0, 2.7778e-4]])  # Covariance matrix (GPa^2)\n",
    "model.set_priors(x_prior, cov_matrix_prior)"
   ]
  },
  {
   "cell_type": "markdown",
   "id": "c74523c4",
   "metadata": {},
   "source": [
    "## Posterior $\\pi(\\textbf{x}|\\textbf{y})$\n",
    "\n",
    "The posterior distribution for a single stress measurement is given by the following equation:\n",
    "\n",
    "$$\\pi(\\textbf{x}|y) \\propto \\pi(\\textbf{x})\\pi(y|\\textbf{x}) = exp\\left(-\\left(\\frac{(\\textbf{x}-\\overline{\\textbf{x}})^T\\Gamma^{-1}(\\textbf{x}-\\overline{\\textbf{x}})}{2} + {\\frac{\\left(y_i - E\\epsilon_i\\left(1 - h\\left(\\epsilon_i - \\frac{\\sigma_{y0}}{E}\\right)\\right) - \\sigma_{y0}h\\left(\\epsilon_i - \\frac{\\sigma_{y0}}{E}\\right)\\right)^2}{2s^2_{noise}}}\\right)\\right)$$\n",
    "\n",
    "If we now consider the posterior distribution of the previous measurement to be the prior distribution of the current measurement, the posterior for all $n_m$ measurements can be expressed as:\n",
    "\n",
    "$$\\pi(\\textbf{x}|\\textbf{y}) \\propto \\pi(\\textbf{x})\\pi_{noise}(\\textbf{y} - \\textbf{f}(\\textbf{x})) = exp\\left(-\\left(\\frac{(\\textbf{x}-\\overline{\\textbf{x}})^T\\Gamma^{-1}(\\textbf{x}-\\overline{\\textbf{x}})}{2} + {\\frac{\\Sigma_{i=1}^{n_m}\\left(y_i - E\\epsilon_i\\left(1 - h\\left(\\epsilon_i - \\frac{\\sigma_{y0}}{E}\\right)\\right) - \\sigma_{y0}h\\left(\\epsilon_i - \\frac{\\sigma_{y0}}{E}\\right)\\right)^2}{2s^2_{noise}}}\\right)\\right)$$\n",
    "\n",
    "Where $n_m$ is the number of measurements, $y_i$ is the measured stress and $\\epsilon_i$ is the measured strain."
   ]
  },
  {
   "cell_type": "code",
   "execution_count": null,
   "id": "06e5d73b",
   "metadata": {},
   "outputs": [],
   "source": [
    "x_candidate = np.array([[210], [0.25]])\n",
    "print(model.posterior(strain_data, stress_data, x_candidate))\n",
    "\n",
    "x_candidate = np.array([[200], [0.29]])\n",
    "print(model.posterior(strain_data, stress_data, x_candidate))"
   ]
  },
  {
   "cell_type": "markdown",
   "id": "9ceef97e",
   "metadata": {},
   "source": [
    "## Identification of the material parameters: Metropolis-Hastings method\n",
    "\n",
    "Determine the PDF for the Young's modulus $E$ and yield stress $\\sigma_{y0}$ using the standard Metropolis-Hastings method."
   ]
  },
  {
   "cell_type": "code",
   "execution_count": null,
   "id": "9ee9969b",
   "metadata": {},
   "outputs": [],
   "source": [
    "data = [strain_data, stress_data]\n",
    "mh = MetropolisHastings(model, data, n_samples=1e5, step_size=np.array([[2.5], [0.05]]))\n",
    "\n",
    "x_0 = np.array([[200], [0.29]])  # Initial sample\n",
    "x_hist, pdf_hist, accept_rate = mh.sample(x_0)"
   ]
  },
  {
   "cell_type": "markdown",
   "id": "c5499d9c",
   "metadata": {},
   "source": [
    "The chain is run for 1E5 samples and the first 3000 samples are burnt (i.e. the first 3000 samples are not used to determine the mean, the covariance matrix and the MAP estimate)."
   ]
  },
  {
   "cell_type": "code",
   "execution_count": null,
   "id": "d96f5604",
   "metadata": {},
   "outputs": [],
   "source": [
    "x_mean = mh.calculate_mean(x_hist)\n",
    "MAP_point = mh.calculate_MAP_point(x_hist, pdf_hist)\n",
    "print(x_mean, MAP_point)"
   ]
  },
  {
   "cell_type": "code",
   "execution_count": null,
   "id": "76189bd5",
   "metadata": {},
   "outputs": [],
   "source": [
    "x_cov = mh.calculate_covariance(x_hist)\n",
    "print(x_cov)"
   ]
  },
  {
   "cell_type": "markdown",
   "id": "9628fbbf",
   "metadata": {},
   "source": [
    "### Visualise the proposal distribution\n",
    "\n",
    "Move to MCMC notebook"
   ]
  },
  {
   "cell_type": "code",
   "execution_count": null,
   "id": "7d7f5a4a",
   "metadata": {},
   "outputs": [],
   "source": [
    "n_samples = 100000\n",
    "x_i = ([190], [0.2])\n",
    "x_p = np.zeros([n_samples, np.size(x_i)])\n",
    "\n",
    "for i in range(n_samples):\n",
    "    x_p[i, :] = np.transpose(mh.draw_proposal(x_i))\n",
    "\n",
    "plt.hist(x_p[:, 0], 100);"
   ]
  },
  {
   "cell_type": "markdown",
   "id": "3bec57ea",
   "metadata": {},
   "source": [
    "### Posterior"
   ]
  },
  {
   "cell_type": "code",
   "execution_count": null,
   "id": "1ac3df95",
   "metadata": {},
   "outputs": [],
   "source": [
    "# Histogram of the Markov chain values\n",
    "fig, (ax1, ax2) = plt.subplots(1, 2, figsize=(12, 4))\n",
    "ax1.hist(x_hist[:, 0], 100)\n",
    "ax2.hist(x_hist[:, 1], 100)\n",
    "ax1.axvline(E, ls=\"--\", color=\"dimgray\")\n",
    "ax2.axvline(stress_y, ls=\"--\", color=\"dimgray\")"
   ]
  },
  {
   "cell_type": "code",
   "execution_count": null,
   "id": "42691292",
   "metadata": {},
   "outputs": [],
   "source": [
    "# Density plot of the Markov chain values - use kernel density estimation or marginal distribution? Look at Seaborn?\n",
    "fig, (ax1, ax2) = plt.subplots(1, 2, figsize=(12, 4))\n",
    "ax1.scatter(x_hist[:, 0], pdf_hist)\n",
    "ax2.scatter(x_hist[:, 1], pdf_hist)\n",
    "ax1.axvline(E, ls=\"--\", color=\"dimgray\")\n",
    "ax2.axvline(stress_y, ls=\"--\", color=\"dimgray\")"
   ]
  },
  {
   "cell_type": "code",
   "execution_count": null,
   "id": "51d48c4b",
   "metadata": {},
   "outputs": [],
   "source": [
    "fig = plt.figure(figsize=(6, 6))\n",
    "ax = fig.add_subplot(111)\n",
    "ax.scatter(x_hist[:, 0], x_hist[:, 1], s=10, c=pdf_hist, marker=\"o\", cmap=cm.jet)\n",
    "add_labels(\"Posterior\", \"Young's Modulus \\(E\\)\", \"Yield Stress \\(\\sigma_{y0}\\)\")\n",
    "plt.axvline(E, ls=\"--\", color=\"dimgray\")\n",
    "plt.axhline(stress_y, ls=\"--\", color=\"dimgray\")\n",
    "\n",
    "if save_figures:\n",
    "    fig.savefig(\"LEPP_posterior.png\", dpi=300)"
   ]
  },
  {
   "cell_type": "code",
   "execution_count": null,
   "id": "11163ce9",
   "metadata": {},
   "outputs": [],
   "source": [
    "fig = plt.figure(figsize=(6, 6))\n",
    "ax = fig.add_subplot(projection=\"3d\")\n",
    "ax.scatter(\n",
    "    x_hist[:, 0], x_hist[:, 1], pdf_hist, s=10, c=pdf_hist, marker=\"o\", cmap=cm.jet\n",
    ")\n",
    "add_labels(\"Posterior\", \"Young's Modulus \\(E\\)\", \"Yield Stress \\(\\sigma_{y0}\\)\")\n",
    "ax.set_zlabel(\"Probability density\");"
   ]
  },
  {
   "cell_type": "code",
   "execution_count": null,
   "id": "2195b53e",
   "metadata": {},
   "outputs": [],
   "source": [
    "# model.calculate_PPD(strain, x_hist)"
   ]
  },
  {
   "cell_type": "markdown",
   "id": "923d2fb4",
   "metadata": {},
   "source": [
    "### Convergence\n",
    "\n",
    "A commonly employed approach to check the stability and convergence of the scheme is to trace the generated samples and analyse their characteristics."
   ]
  },
  {
   "cell_type": "code",
   "execution_count": null,
   "id": "4a6134c5",
   "metadata": {},
   "outputs": [],
   "source": [
    "fig, (ax1, ax2) = plt.subplots(2, sharex=True, figsize=(7.5, 7.5))\n",
    "ax1.plot(x_hist[:, 0])\n",
    "ax1.axhline(E, ls=\"--\", color=\"dimgray\")\n",
    "ax2.plot(x_hist[:, 1])\n",
    "ax2.axhline(stress_y, ls=\"--\", color=\"dimgray\")"
   ]
  },
  {
   "cell_type": "markdown",
   "id": "e3b0f7cc",
   "metadata": {},
   "source": [
    "### Acceptance rate\n",
    "\n",
    "It has been shown that optimal acceptance rate is approximately 0.25 [[1]](https://arxiv.org/pdf/1504.01896.pdf). If the acceptance rate is too high or too low it will slow down the convergence of the Markov chain."
   ]
  },
  {
   "cell_type": "code",
   "execution_count": null,
   "id": "c1522fc4",
   "metadata": {},
   "outputs": [],
   "source": [
    "plt.plot(accept_rate)"
   ]
  },
  {
   "cell_type": "markdown",
   "id": "197300f6",
   "metadata": {},
   "source": [
    "## Identification of the material parameters: Adaptive Metropolis-Hastings method"
   ]
  },
  {
   "cell_type": "code",
   "execution_count": null,
   "id": "30939cea",
   "metadata": {},
   "outputs": [],
   "source": [
    "data = [strain_data, stress_data]\n",
    "mh_ap = AdaptiveMetropolisHastings(model, data, n_samples=2e5)\n",
    "\n",
    "x_0 = np.array([[200], [0.29]])  # Initial sample\n",
    "x_hist, pdf_hist, accept_rate = mh_ap.sample(x_0)"
   ]
  },
  {
   "cell_type": "markdown",
   "id": "8485e679",
   "metadata": {},
   "source": [
    "### Posterior"
   ]
  },
  {
   "cell_type": "code",
   "execution_count": null,
   "id": "2753e163",
   "metadata": {},
   "outputs": [],
   "source": [
    "# Density plot of the Markov chain values\n",
    "fig, (ax1, ax2) = plt.subplots(1, 2, figsize=(12, 4))\n",
    "ax1.scatter(x_hist[:, 0], pdf_hist)\n",
    "ax2.scatter(x_hist[:, 1], pdf_hist)\n",
    "ax1.axvline(E, ls=\"--\", color=\"dimgray\")\n",
    "ax2.axvline(stress_y, ls=\"--\", color=\"dimgray\")"
   ]
  },
  {
   "cell_type": "code",
   "execution_count": null,
   "id": "d3da62ea",
   "metadata": {},
   "outputs": [],
   "source": [
    "fig = plt.figure(figsize=(6, 6))\n",
    "ax = fig.add_subplot(111)\n",
    "ax.scatter(x_hist[:, 0], x_hist[:, 1], s=10, c=pdf_hist, marker=\"o\", cmap=cm.jet)\n",
    "add_labels(\"Posterior\", \"Young's Modulus \\(E\\)\", \"Yield Stress \\(\\sigma_{y0}\\)\")\n",
    "plt.axvline(E, ls=\"--\", color=\"dimgray\")\n",
    "plt.axhline(stress_y, ls=\"--\", color=\"dimgray\")\n",
    "\n",
    "if save_figures:\n",
    "    fig.savefig(\"LEPP_posterior_adaptive.png\", dpi=300)"
   ]
  },
  {
   "cell_type": "code",
   "execution_count": null,
   "id": "f2b38e02",
   "metadata": {},
   "outputs": [],
   "source": [
    "fig = plt.figure(figsize=(6, 6))\n",
    "ax = fig.add_subplot(projection=\"3d\")\n",
    "ax.scatter(\n",
    "    x_hist[:, 0], x_hist[:, 1], pdf_hist, s=10, c=pdf_hist, marker=\"o\", cmap=cm.jet\n",
    ")\n",
    "add_labels(\"Posterior\", \"Young's Modulus \\(E\\)\", \"Yield Stress \\(\\sigma_{y0}\\)\")\n",
    "ax.set_zlabel(\"Probability density\");"
   ]
  },
  {
   "cell_type": "markdown",
   "id": "3cb693d4",
   "metadata": {},
   "source": [
    "### Convergence"
   ]
  },
  {
   "cell_type": "code",
   "execution_count": null,
   "id": "5261766e",
   "metadata": {},
   "outputs": [],
   "source": [
    "fig, (ax1, ax2) = plt.subplots(2, sharex=True, figsize=(7.5, 7.5))\n",
    "ax1.plot(x_hist[:, 0])\n",
    "ax1.axhline(E, ls=\"--\", color=\"dimgray\")\n",
    "ax2.plot(x_hist[:, 1])\n",
    "ax2.axhline(stress_y, ls=\"--\", color=\"dimgray\")"
   ]
  },
  {
   "cell_type": "code",
   "execution_count": null,
   "id": "942cbc88",
   "metadata": {},
   "outputs": [],
   "source": [
    "plt.plot(accept_rate)"
   ]
  },
  {
   "cell_type": "markdown",
   "id": "37920de3",
   "metadata": {},
   "source": [
    "## Posterior Predictive Distribution (PPD)\n",
    "\n",
    "[Posterior Predictive Distributions in Bayesian statistics](https://www.physicsforums.com/insights/posterior-predictive-distributions-in-bayesian-statistics/)\n",
    "\n",
    "The posterior predictive distribution is the distribution of possible unobserved values conditional on the observed values.\n",
    "\n",
    "$$\\pi(y^{\\textrm{new}}|\\textbf{y}, \\boldsymbol{\\epsilon}, \\epsilon^{\\textrm{new}}) = \\int_{\\mathbb{R}^{n_p}} \\pi(y^{\\textrm{new}}|\\textbf{x}, \\epsilon^{\\textrm{new}}) \\pi(\\textbf{x}|\\textbf{y}, \\boldsymbol{\\epsilon}) dx$$\n",
    "\n",
    "\n",
    "Note that $\\pi(\\textbf{x}|\\textbf{y}, \\boldsymbol{\\epsilon})$ has already been computed. The $i^{th}$ sample is replaced in $\\pi(y^{\\textrm{new}}|\\textbf{x}_i, \\epsilon^{\\textrm{new}})$, which is subsequently used to generate a sample for new measurement $y_i^{new}$."
   ]
  },
  {
   "cell_type": "markdown",
   "id": "2187b4f7",
   "metadata": {},
   "source": [
    "### Prediction bounds\n",
    "\n",
    "The below figure illustrates the stress-strain response using parameters drawn from the **95% credible region** of the posterior as well as the posterior predictions. The 95% credible region is the region that contains 95% of the posterior.\n",
    "\n",
    "The **95% prediction interval** is obtained using the posterior predictive distribution and its upper and lower bounds read:\n",
    "\n",
    "$$\\textrm{prediction bounds} = \\overline{\\textrm{PPD}} \\pm 2S_{\\textrm{PDD}}$$\n",
    "\n",
    "where $\\overline{\\textrm{PPD}}$ denotes the mean of posterior predictive distributions for the new measurement (i.e. $y_{\\textrm{new}}$ in Eq. (59)) and $s_{\\textrm{PDD}}$ denotes its standard deviation.\n"
   ]
  }
 ],
 "metadata": {
  "kernelspec": {
   "display_name": "Python 3 (ipykernel)",
   "language": "python",
   "name": "python3"
  },
  "language_info": {
   "codemirror_mode": {
    "name": "ipython",
    "version": 3
   },
   "file_extension": ".py",
   "mimetype": "text/x-python",
   "name": "python",
   "nbconvert_exporter": "python",
   "pygments_lexer": "ipython3",
   "version": "3.11.6"
  }
 },
 "nbformat": 4,
 "nbformat_minor": 5
}
