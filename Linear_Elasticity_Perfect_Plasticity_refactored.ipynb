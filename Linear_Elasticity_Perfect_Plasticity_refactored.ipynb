{
 "cells": [
  {
   "cell_type": "code",
   "execution_count": 1,
   "id": "85181315",
   "metadata": {},
   "outputs": [],
   "source": [
    "import numpy as np\n",
    "import scipy.stats\n",
    "import matplotlib.pyplot as plt\n",
    "from matplotlib import cm\n",
    "\n",
    "from material_model import LinearElasticityPerfectPlasticity as LEPP\n",
    "\n",
    "plt.rcParams.update({\n",
    "    \"text.usetex\": True,\n",
    "    \"font.family\": \"sans-serif\",\n",
    "    \"font.sans-serif\": [\"Times New Roman\"]})\n",
    "plt.rcParams[\"font.family\"] = \"Times New Roman\""
   ]
  },
  {
   "cell_type": "markdown",
   "id": "54e1999b",
   "metadata": {},
   "source": [
    "## Generic functions"
   ]
  },
  {
   "cell_type": "code",
   "execution_count": 2,
   "id": "245f38f6",
   "metadata": {},
   "outputs": [],
   "source": [
    "def add_labels(graph_title, x_label, y_label):\n",
    "    \"\"\"\n",
    "    Add labels to graphs\n",
    "    \"\"\"\n",
    "    plt.title(graph_title)\n",
    "    plt.xlabel(x_label)\n",
    "    plt.ylabel(y_label)"
   ]
  },
  {
   "cell_type": "markdown",
   "id": "396b9339",
   "metadata": {},
   "source": [
    "## Papers\n",
    "\n",
    "[Identifying elastoplastic parameters with Bayes’ theorem considering output error, input error and model uncertainty](https://www.sciencedirect.com/science/article/pii/S0266892018300547)\n",
    "\n",
    "[A Tutorial on Bayesian Inference to Identify Material Parameters in Solid Mechanics](https://link.springer.com/article/10.1007/s11831-018-09311-x)"
   ]
  },
  {
   "cell_type": "markdown",
   "id": "9ed0013b",
   "metadata": {},
   "source": [
    "# Linear Elasticity-Perfect Plasticity"
   ]
  },
  {
   "cell_type": "markdown",
   "id": "2ff9f8d4",
   "metadata": {},
   "source": [
    "## Parameters"
   ]
  },
  {
   "cell_type": "markdown",
   "id": "189cd717",
   "metadata": {},
   "source": [
    "A linear elastic-perfectly plastic specimen is considered with Young's modulus $E =$ 210 GPa and yield stress $\\sigma_{y0} =$ 0.25 GPa. \n",
    "\n",
    "The parameters to be identified for the linear elastic-perfectly plastic model are the Young's modulus and the initial yield stress, which are stored in the parameter vector $\\textbf{x}$:\n",
    "\n",
    " $$\\textbf{x}=[E \\; \\sigma_{y0}]^T$$"
   ]
  },
  {
   "cell_type": "code",
   "execution_count": 3,
   "id": "ecbda677",
   "metadata": {},
   "outputs": [],
   "source": [
    "E = 210           # Young's modulus (GPa)\n",
    "stress_y = 0.25   # Yield stress (GPa)\n",
    "s_noise = 0.01    # Noise in the stress measurement (GPa)"
   ]
  },
  {
   "cell_type": "markdown",
   "id": "6577b326",
   "metadata": {},
   "source": [
    "## Constitutive model\n",
    "\n",
    "The stress-strain response of the linear elastic-perfectly plastic model during monotonic tension can be written as:\n",
    "\n",
    "$$\\sigma(\\epsilon, \\textbf{x}) = \n",
    "    \\begin{cases}\n",
    "        E\\epsilon \\quad \\text{if} \\quad \\epsilon \\leqslant \\frac{\\sigma_{y0}}{E} \\\\\n",
    "        \\sigma_{y0} \\quad \\text{if} \\quad \\epsilon > \\frac{\\sigma_{y0}}{E}\n",
    "    \\end{cases}$$\n",
    "\n",
    "Using the Heaviside step function $h$, the stress-strain response of the linear elastic-perfectly plastic model can alternatively be expressed as:\n",
    "\n",
    "$$\\sigma(\\epsilon, \\textbf{x}) = E\\epsilon\\left(1 - h\\left(\\epsilon - \\frac{\\sigma_{y0}}{E}\\right)\\right) + \\sigma_{y0}h\\left(\\epsilon - \\frac{\\sigma_{y0}}{E}\\right)$$\n",
    "\n",
    "Where $\\textbf{x}$ is the parameter vector:\n",
    "\n",
    "$$\\textbf{x} = [E \\; \\sigma_{y0}]^T$$\n",
    "\n",
    "$E$ is the Young's modulus and $\\sigma_{y0}$ is the initial yield stress."
   ]
  },
  {
   "cell_type": "markdown",
   "id": "8b22bcd5",
   "metadata": {},
   "source": [
    "### Stress-strain graph"
   ]
  },
  {
   "cell_type": "markdown",
   "id": "e948e728",
   "metadata": {},
   "source": [
    "Twelve experimental measurements are provided. The noise $\\Omega$ in the stress measurements is a normal distribution with a zero mean and a standard deviation of $s_{noise}$."
   ]
  },
  {
   "cell_type": "code",
   "execution_count": 4,
   "id": "ed794980",
   "metadata": {},
   "outputs": [
    {
     "data": {
      "image/png": "[encoded data removed]",
      "text/plain": [
       "<Figure size 432x288 with 1 Axes>"
      ]
     },
     "metadata": {
      "needs_background": "light"
     },
     "output_type": "display_data"
    }
   ],
   "source": [
    "model = LEPP(E, stress_y)\n",
    "strain = np.linspace(0, 2.5E-3, 100)\n",
    "model.stress_strain_response(strain)\n",
    "strain_data, stress_data = model.generate_synthetic_data(strain, s_noise, 12)\n",
    "plt.scatter(strain_data, stress_data);"
   ]
  },
  {
   "cell_type": "markdown",
   "id": "bff82a3c",
   "metadata": {},
   "source": [
    "## Likelihood $\\pi(y|\\textbf{x})$\n",
    "\n",
    "The likelihood function for a single stress measurement\n",
    "\n",
    "$$\\pi(y|\\textbf{x}) = \\pi_{noise}(y - \\sigma(\\epsilon, \\textbf{x})) = \\frac{1}{s_{noise}\\sqrt{2\\pi}}exp\\left(-{\\frac{\\left(y - \\sigma(\\epsilon, \\textbf{x})\\right)^2}{2s^2_{noise}}}\\right)$$\n",
    "\n",
    "$$\\pi(y|\\textbf{x}) = \\frac{1}{s_{noise}\\sqrt{2\\pi}}exp\\left(-{\\frac{\\left(y - E\\epsilon\\left(1 - h\\left(\\epsilon - \\frac{\\sigma_{y0}}{E}\\right)\\right) - \\sigma_{y0}h\\left(\\epsilon - \\frac{\\sigma_{y0}}{E}\\right)\\right)^2}{2s^2_{noise}}}\\right)$$"
   ]
  },
  {
   "cell_type": "markdown",
   "id": "85aa8561",
   "metadata": {},
   "source": [
    "## Prior $\\pi(\\textbf{x})$\n",
    "\n",
    "$$\\pi(\\textbf{x}) = exp\\left(-\\frac{(\\textbf{x}-\\overline{\\textbf{x}})^T\\Gamma^{-1}(\\textbf{x}-\\overline{\\textbf{x}})}{2} \\right)$$\n",
    "\n",
    "The following mean vector (prior candidate vector) and convariance matrix are selected:\n",
    "\n",
    "$$\\overline{\\textbf{x}} = \\begin{bmatrix} 200 \\\\ 0.29 \\end{bmatrix} \\; \\text{GPa}, \\quad \\Gamma_\\textbf{x} = \\begin{bmatrix} 2500 & 0 \\\\ 0 & 2.7778 \\times 10^{-4} \\end{bmatrix} \\; \\text{GPa}^2$$"
   ]
  },
  {
   "cell_type": "code",
   "execution_count": 5,
   "id": "80ddbed4",
   "metadata": {},
   "outputs": [],
   "source": [
    "prior_x = np.array([[200], [0.29]])                       # Mean vector (GPa)\n",
    "prior_cov_matrix = np.array([[2500, 0], [0, 2.7778E-4]])  # Covariance matrix (GPa^2)"
   ]
  },
  {
   "cell_type": "markdown",
   "id": "c74523c4",
   "metadata": {},
   "source": [
    "## Posterior\n",
    "\n",
    "$$\\pi(\\textbf{x}|\\textbf{y}) \\propto \\pi(\\textbf{x})\\pi_{noise}(\\textbf{y} - \\textbf{f}(\\textbf{x})) = exp\\left(-\\left(\\frac{(\\textbf{x}-\\overline{\\textbf{x}})^T\\Gamma^{-1}(\\textbf{x}-\\overline{\\textbf{x}})}{2} + {\\frac{\\Sigma_{i=1}^{n_m}\\left(y_i - E\\epsilon_i\\left(1 - h\\left(\\epsilon_i - \\frac{\\sigma_{y0}}{E}\\right)\\right) - \\sigma_{y0}h\\left(\\epsilon_i - \\frac{\\sigma_{y0}}{E}\\right)\\right)^2}{2s^2_{noise}}}\\right)\\right)$$\n",
    "\n",
    "Where $n_m$ is the number of measurements, $y_i$ is the measured stress and $\\epsilon_i$ is the measured strain."
   ]
  },
  {
   "cell_type": "code",
   "execution_count": 18,
   "id": "06e5d73b",
   "metadata": {},
   "outputs": [
    {
     "name": "stdout",
     "output_type": "stream",
     "text": [
      "[[20.60482568]]\n"
     ]
    }
   ],
   "source": [
    "candidate_x = np.array([[210], [0.25]])\n",
    "print(model.posterior(strain_data, stress_data, s_noise, prior_cov_matrix, candidate_x, prior_x))"
   ]
  },
  {
   "cell_type": "markdown",
   "id": "8e85f859",
   "metadata": {},
   "source": [
    "## The standard Metropolis-Hastings algorithm\n",
    "\n",
    "The standard Metropolis-Hastings approach is a frequently employed MCMC algorithm. The basic idea of the Metropolis-Hastings algorithm is to explore the probability density function (PDF) of interest by making a random walk through the parameter space $\\textbf{x}$.\n",
    "\n",
    "### Proposal distribution\n",
    "\n",
    "Consider sample $\\textbf{x}_i$ and its evaluation of the PDF, $\\pi(\\textbf{x}_i)$ new sample $\\textbf{x}_p$ is proposed by drawing from a proposal distribution.\n",
    "\n",
    "$\\gamma$ denotes the parameter that determines the width of the proposal distribution and must be tuned to obtain an efficient and converging algorithm. An efficient starting value is given by the following equation [1]:\n",
    "\n",
    "$$\\gamma = \\frac{2.38}{\\sqrt{n_p}}$$\n",
    "\n",
    "Where $n_p$ denotes the number of unknown parameters.\n",
    "\n",
    "[1] Gelman A, Roberts GO, Gilks WR (1996) Efficient Metropolis jumping rules. In: Bernardo JM, Berger JO, Dawid AP, Smith AFM (eds) Bayesian Statistics, vol 5. Oxford University Press, pp 599-607\n",
    "\n",
    "\n",
    "\n",
    "New sample $\\textbf{x}_p$ is proposed by drawing from a proposal distribution $q(\\textbf{x}_i | \\textbf{x}_p)$... << is this correct?\n",
    "\n",
    "In the case of a symmetric proposal distribution (as in this example), the following relation holds:\n",
    "\n",
    "$$q(\\textbf{x}_i | \\textbf{x}_p) = q(\\textbf{x}_p | \\textbf{x}_i)$$"
   ]
  },
  {
   "cell_type": "code",
   "execution_count": 7,
   "id": "c2f037d4",
   "metadata": {},
   "outputs": [],
   "source": [
    "def propose_new_sample(current_x):\n",
    "    \"\"\"\n",
    "    Draw x (candidate) from proposal distribution\n",
    "    \"\"\"\n",
    "    \n",
    "    gamma = [[5], [0.1]] / np.sqrt(len(current_x))\n",
    "    candidate_x = current_x + (gamma * np.transpose(np.random.normal(size=(1,2))))\n",
    "    \n",
    "    return candidate_x"
   ]
  },
  {
   "cell_type": "code",
   "execution_count": 8,
   "id": "98cd77fe",
   "metadata": {},
   "outputs": [],
   "source": [
    "def accept_or_reject_candidate(sample, current_x, candidate_x, pdf_candidate_x, pdf_current_x,\n",
    "                               history_x, history_pdf, n_accept):\n",
    "    \n",
    "    # Calculate the acceptance ratio (alpha) - alpha is used to decide whether to accept or reject a candidate\n",
    "    alpha = min(1, pdf_candidate_x / pdf_current_x)\n",
    "\n",
    "    # Generate a uniform random number (u)\n",
    "    u = np.random.uniform(low=0.0, high=1.0)\n",
    "\n",
    "    # Accept if u < alpha\n",
    "    if u < alpha:\n",
    "        history_x[sample, :] = np.transpose(candidate_x)\n",
    "        current_x = candidate_x\n",
    "        history_pdf[sample] = pdf_candidate_x\n",
    "        n_accept += 1\n",
    "\n",
    "    # Reject if u > alpha\n",
    "    if u > alpha:\n",
    "        history_x[sample, :] = np.transpose(current_x)\n",
    "        history_pdf[sample] = pdf_current_x\n",
    "        \n",
    "    return current_x, history_x, history_pdf, n_accept"
   ]
  },
  {
   "cell_type": "code",
   "execution_count": 9,
   "id": "9a9e6b44",
   "metadata": {},
   "outputs": [],
   "source": [
    "def metropolis_hastings(initial_x, prior_cov_matrix, \n",
    "                        strain_measured, stress_measured, \n",
    "                        s_noise, n_samples=100000):\n",
    "    \"\"\"\n",
    "    Standard Metropolis-Hastings algorithm\n",
    "    \n",
    "    Parameters\n",
    "    ----------\n",
    "    initial_x : ndarray\n",
    "        Initial array of parameters (mean vector)\n",
    "    prior_cov_matrix : ndarray\n",
    "        Covariance matrix\n",
    "    strain_measured : list\n",
    "        Experimental strain data\n",
    "    stress_measured : list\n",
    "        Experimental stress data\n",
    "    s_noise : float\n",
    "        The PDF of the noise in the stress measurements is a normal distribution \n",
    "        with a zero mean and a standard deviation of s_noise\n",
    "    n_samples : int\n",
    "        Number of samples (default value is 100,000)\n",
    "\n",
    "\n",
    "    Returns\n",
    "    -------\n",
    "    history_x : ndarray\n",
    "        Parameter chain\n",
    "    history_pdf : ndarray\n",
    "        Probability density of every sample\n",
    "    acceptance_rate : ndarray\n",
    "        Acceptance rate\n",
    "    lnprob : ndarray\n",
    "        log-posterior chain\n",
    "\n",
    "    Notes\n",
    "    -----\n",
    "\n",
    "    \"\"\"\n",
    "\n",
    "    dim = len(initial_x)  # Number of dimensions (Young's modulus, yield stress)\n",
    "    \n",
    "    # Initial candidate\n",
    "    current_x = initial_x.copy()\n",
    "    prior_x = initial_x.copy()\n",
    "    \n",
    "    # Initialise chain    \n",
    "    history_pdf = np.zeros(n_samples)\n",
    "    history_x = np.zeros([n_samples, dim])\n",
    "    accept_rate = np.zeros(n_samples)\n",
    "    lnprob = np.zeros(n_samples)\n",
    "    \n",
    "    # First samples    \n",
    "    history_x[0, :] = np.transpose(current_x)\n",
    "\n",
    "    # Start loop    \n",
    "    n_accept = 0  # Number of accepted samples    \n",
    "    for i in range(1, n_samples):\n",
    "        \n",
    "        # Draw a candidate from the proposal distribution\n",
    "        candidate_x = propose_new_sample(current_x)\n",
    "\n",
    "        # Calculate the likelihood        \n",
    "        pdf_current_x = calculate_posterior(current_x, prior_x, prior_cov_matrix, \n",
    "                                            strain_measured, stress_measured, s_noise)\n",
    "\n",
    "        pdf_candidate_x = calculate_posterior(candidate_x, prior_x, prior_cov_matrix, \n",
    "                                              strain_measured, stress_measured, s_noise)\n",
    "        \n",
    "        # Accept or reject the candidate        \n",
    "        current_x, history_x, history_pdf, n_accept = accept_or_reject_candidate(i, current_x, candidate_x, \n",
    "                                                                                 pdf_candidate_x, pdf_current_x,\n",
    "                                                                                 history_x, history_pdf, n_accept)\n",
    "        \n",
    "        # Update chain        \n",
    "        accept_rate[i] = n_accept / i\n",
    "            \n",
    "    return history_x, history_pdf, accept_rate"
   ]
  },
  {
   "cell_type": "markdown",
   "id": "9ceef97e",
   "metadata": {},
   "source": [
    "## Markov Chain Monte Carlo\n",
    "\n",
    "Determine the PDF for the Young's modulus $E$ and yield stress $\\sigma_{y0}$"
   ]
  },
  {
   "cell_type": "code",
   "execution_count": 10,
   "id": "abb3d8e2",
   "metadata": {},
   "outputs": [
    {
     "ename": "NameError",
     "evalue": "name 's_noise_correct' is not defined",
     "output_type": "error",
     "traceback": [
      "\u001b[0;31m---------------------------------------------------------------------------\u001b[0m",
      "\u001b[0;31mNameError\u001b[0m                                 Traceback (most recent call last)",
      "Input \u001b[0;32mIn [10]\u001b[0m, in \u001b[0;36m<cell line: 6>\u001b[0;34m()\u001b[0m\n\u001b[1;32m      3\u001b[0m initial_x \u001b[38;5;241m=\u001b[39m np\u001b[38;5;241m.\u001b[39marray([[\u001b[38;5;241m200\u001b[39m], [\u001b[38;5;241m0.29\u001b[39m]])               \u001b[38;5;66;03m# Mean vector (GPa)\u001b[39;00m\n\u001b[1;32m      4\u001b[0m cov_matrix \u001b[38;5;241m=\u001b[39m np\u001b[38;5;241m.\u001b[39marray([[\u001b[38;5;241m2500\u001b[39m, \u001b[38;5;241m0\u001b[39m], [\u001b[38;5;241m0\u001b[39m, \u001b[38;5;241m2.7778E-4\u001b[39m]])  \u001b[38;5;66;03m# Covariance matrix (GPa^2)\u001b[39;00m\n\u001b[0;32m----> 6\u001b[0m x, pdf, acc_rate \u001b[38;5;241m=\u001b[39m metropolis_hastings(initial_x, cov_matrix, strain_data, stress_data, \u001b[43ms_noise_correct\u001b[49m)\n",
      "\u001b[0;31mNameError\u001b[0m: name 's_noise_correct' is not defined"
     ]
    }
   ],
   "source": [
    "n_burnt_samples = 3000\n",
    "\n",
    "initial_x = np.array([[200], [0.29]])               # Mean vector (GPa)\n",
    "cov_matrix = np.array([[2500, 0], [0, 2.7778E-4]])  # Covariance matrix (GPa^2)\n",
    "\n",
    "x, pdf, acc_rate = metropolis_hastings(initial_x, cov_matrix, strain_data, stress_data, s_noise_correct)\n"
   ]
  },
  {
   "cell_type": "markdown",
   "id": "923d2fb4",
   "metadata": {},
   "source": [
    "### Convergence\n",
    "\n",
    "A commonly employed approach to check the stability and convergence of the scheme is to trace the generated samples and analyse their characteristics."
   ]
  },
  {
   "cell_type": "code",
   "execution_count": null,
   "id": "051215ca",
   "metadata": {},
   "outputs": [],
   "source": [
    "f, (a0, a1) = plt.subplots(1, 2, gridspec_kw={'width_ratios': [5, 1]})\n",
    "a0.plot(x[:, 0])\n",
    "a1.hist(x[:, 0], bins=100, orientation=\"horizontal\");\n",
    "a1.get_xaxis().set_visible(False)\n",
    "a1.get_yaxis().set_visible(False)\n",
    "f.tight_layout()\n",
    "\n",
    "# add_labels(\"Trace plot \\(E\\)\", \"S\", \"Young's Modulus \\(E\\)\")"
   ]
  },
  {
   "cell_type": "code",
   "execution_count": null,
   "id": "e80c78a3",
   "metadata": {},
   "outputs": [],
   "source": [
    "plt.plot(x[:,1])\n",
    "add_labels(\"Trace plot \\(\\sigma_{y0}\\)\", \"S\", \"Yield Stress \\(\\sigma_{y0}\\)\")"
   ]
  },
  {
   "cell_type": "code",
   "execution_count": null,
   "id": "4bc60461",
   "metadata": {},
   "outputs": [],
   "source": [
    "plt.plot(acc_rate)\n",
    "add_labels(\"Acceptance rate vs iteration\", \"S\", \"Acceptance rate\")"
   ]
  },
  {
   "cell_type": "code",
   "execution_count": null,
   "id": "d0b24366",
   "metadata": {},
   "outputs": [],
   "source": [
    "plt.plot(pdf)\n",
    "add_labels(\"Posterior\", \"S\", \"Posterior\")"
   ]
  },
  {
   "cell_type": "code",
   "execution_count": null,
   "id": "98d168d4",
   "metadata": {},
   "outputs": [],
   "source": [
    "fig = plt.figure(figsize=(6,6))\n",
    "ax = fig.add_subplot(111)\n",
    "ax.scatter(x[:,0], x[:,1], s=10, c=pdf, marker = 'o', cmap = cm.jet );\n",
    "add_labels(\"Posterior\", \"Young's Modulus \\(E\\)\", \"Yield Stress \\(\\sigma_{y0}\\)\")\n",
    "fig.savefig('posterior.png', dpi=300) "
   ]
  },
  {
   "cell_type": "code",
   "execution_count": null,
   "id": "4fc2a7ed",
   "metadata": {},
   "outputs": [],
   "source": [
    "fig = plt.figure(figsize=(6,6))\n",
    "ax = fig.add_subplot(projection='3d')\n",
    "ax.scatter(x[:,0], x[:,1], pdf, s=10, c=pdf, marker = 'o', cmap = cm.jet );\n",
    "add_labels(\"Posterior\", \"Young's Modulus \\(E\\)\", \"Yield Stress \\(\\sigma_{y0}\\)\")\n",
    "ax.set_zlabel('Probability density')\n",
    "\n",
    "# make the panes transparent\n",
    "ax.xaxis.set_pane_color((1.0, 1.0, 1.0, 0.0))\n",
    "ax.yaxis.set_pane_color((1.0, 1.0, 1.0, 0.0))\n",
    "ax.zaxis.set_pane_color((1.0, 1.0, 1.0, 0.0))\n",
    "\n",
    "fig.savefig('posterior_3D.png', dpi=300) "
   ]
  },
  {
   "cell_type": "markdown",
   "id": "17b23eae",
   "metadata": {},
   "source": [
    "## The Adaptive Metropolis-Hastings algorithm\n"
   ]
  },
  {
   "cell_type": "markdown",
   "id": "cf3880b5",
   "metadata": {},
   "source": [
    "The width of the proposal distribution $\\gamma$ has to be tuned to obtain an efficient and converging algorithm. It can be seen in the above figures that the chain converges on the correct yield stress $\\sigma_{y0}$ but poor convergence behaviour is observed for the Young's modulus $E$. To overcome the tuning of $\\gamma$, Haario et al. [2] introduced the adaptive proposal (AP) method. The AP method updates the width of the proposal distribution using the existing knowledge of the posterior. The existing knowledge is based on the previous samples.\n",
    "\n",
    "For sample $n_k + 1$, the update employs the following formulation:\n",
    "\n",
    "$$q(\\textbf{x}_p | \\textbf{x}_i) \\sim \\mathcal{N}(\\textbf{x}_i, \\gamma^2 \\textbf{R}_{n_{\\textbf{k}}})$$\n",
    "\n",
    "Where $\\mathcal{N}(\\textbf{x}_i, \\gamma^2 \\textbf{R}_{n_{\\textbf{k}}})$ denotes a normal distribution with mean $\\textbf{x}_i$ and covariance matrix $\\gamma^2 \\textbf{R}_{n_{\\textbf{k}}}$ of size $n_p \\times n_p$. To establish $\\textbf{R}_{n_{\\textbf{k}}}$, all $n_k$ previous samples are first stored in matrix $\\textbf{K}$ of size $n_{\\textbf{K}} \\times n_p$. $\\textbf{R}_{n_{\\textbf{k}}}$ is then computed as:\n",
    "\n",
    "$$\\textbf{R}_{n_{\\textbf{k}}} = \\frac{1}{n_{\\textbf{K}} - 1}\\tilde{\\textbf{K}}^T\\tilde{\\textbf{K}}$$\n",
    "\n",
    "Where $\\tilde{\\textbf{K}} = \\textbf{K} - \\textbf{K}_{mean}$ and $\\textbf{K}_{mean}$ reads:\n",
    "\n",
    "$$\\textbf{K}_{mean} =\n",
    "\\begin{bmatrix}\n",
    "   \\textbf{k}_{mean} \\\\\n",
    "   \\textbf{k}_{mean}  \\\\\n",
    "   \\vdots \\\\\n",
    "   \\textbf{k}_{mean} \n",
    "\\end{bmatrix}_{\\: n_\\textbf{K} \\, \\times \\, n_p}\n",
    "$$\n",
    "\n",
    "and $\\textbf{K}_{mean}$ denotes a row matrix (vector?) of length $n_p$ (number of unknow parameters) which is determined as follows:\n",
    "\n",
    "$$\\textbf{k}_{mean} = \\frac{1}{i}\\begin{bmatrix} \\sum_{i=1}^{n_\\textbf{K}} (K)_{i1} & \\sum_{i=1}^{n_\\textbf{K}} (K)_{i2} & \\cdots & \\sum_{i=1}^{n_\\textbf{K}} (K)_{in_p} \\end{bmatrix}$$\n",
    "\n",
    "The following relation is used for $\\mathcal{N}(\\textbf{x}_i, \\gamma^2 \\textbf{R}_{n_{\\textbf{k}}})$ in this contribution:\n",
    "\n",
    "\n",
    "[2] Haario, H., Saksman, E., & Tamminen, J. (1999). Adaptive proposal distribution for random walk Metropolis algorithm. Computational Statistics, 14(3), 375-395."
   ]
  },
  {
   "cell_type": "code",
   "execution_count": null,
   "id": "30939cea",
   "metadata": {},
   "outputs": [],
   "source": [
    "def adaptive_metropolis_hastings():\n",
    "    \"\"\"\n",
    "    Adaptive Metropolis-Hastings algorithm\n",
    "    \n",
    "    Parameters\n",
    "    ----------\n",
    "    K : ndarray\n",
    "        Array of previous samples (no of samples, no of unknown parameters)\n",
    "    \n",
    "    Returns\n",
    "    -------\n",
    "\n",
    "    Notes\n",
    "    -----\n",
    "    \"\"\"\n",
    "    \n",
    "    # Start loop\n",
    "    \n",
    "        # Draw a candidate from the proposal distribution\n",
    "        \n",
    "        # Calculate the likelihood\n",
    "        \n",
    "        # Accept or reject the candidate\n",
    "        \n",
    "        # Update chain\n",
    "        \n",
    "        # Update matrix K\n",
    "    \n",
    "    pass"
   ]
  },
  {
   "cell_type": "code",
   "execution_count": null,
   "id": "47fc75b5",
   "metadata": {},
   "outputs": [],
   "source": [
    "def update_matrix_K():\n",
    "    # TODO: K is essentially the chain of samples?\n",
    "    pass"
   ]
  }
 ],
 "metadata": {
  "kernelspec": {
   "display_name": "Python 3 (ipykernel)",
   "language": "python",
   "name": "python3"
  },
  "language_info": {
   "codemirror_mode": {
    "name": "ipython",
    "version": 3
   },
   "file_extension": ".py",
   "mimetype": "text/x-python",
   "name": "python",
   "nbconvert_exporter": "python",
   "pygments_lexer": "ipython3",
   "version": "3.8.12"
  }
 },
 "nbformat": 4,
 "nbformat_minor": 5
}
