{
 "cells": [
  {
   "cell_type": "code",
   "execution_count": 1,
   "id": "7eb2d365",
   "metadata": {},
   "outputs": [],
   "source": [
    "import numpy as np\n",
    "def linear_regression(x, y):\n",
    "    \"\"\"\n",
    "    Linear regression - direct least squares regression\n",
    "    \n",
    "    y = mx + c\n",
    "    \n",
    "    Parameters\n",
    "    ----------\n",
    "    x : float\n",
    "        Independent variable\n",
    "    \n",
    "    y : float\n",
    "        Dependent variable\n",
    "        \n",
    "    Returns\n",
    "    -------\n",
    "    m : float\n",
    "        Gradient\n",
    "        \n",
    "    c : float\n",
    "        Intercept\n",
    "    \n",
    "    Notes\n",
    "    -----\n",
    "    https://pythonnumericalmethods.berkeley.edu/notebooks/chapter16.04-Least-Squares-Regression-in-Python.html\n",
    "    \"\"\"\n",
    "    A = np.vstack([x, np.ones(len(x))]).T\n",
    "    y = y[:, np.newaxis]\n",
    "    return np.dot((np.dot(np.linalg.inv(np.dot(A.T, A)), A.T)), y)"
   ]
  },
  {
   "cell_type": "code",
   "execution_count": 2,
   "id": "7d1fe596",
   "metadata": {},
   "outputs": [],
   "source": [
    "import matplotlib.pyplot as plt\n",
    "def add_labels(graph_title, x_label, y_label):\n",
    "    \"\"\"\n",
    "    Add labels to graphs\n",
    "    \"\"\"\n",
    "    plt.title(graph_title)\n",
    "    plt.xlabel(x_label)\n",
    "    plt.ylabel(y_label)"
   ]
  },
  {
   "cell_type": "code",
   "execution_count": 3,
   "id": "0fab2d3c",
   "metadata": {},
   "outputs": [],
   "source": [
    "import numpy as np\n",
    "def random_draw(vector_length, num_draws, seed=None):\n",
    "    np.random.seed(seed)\n",
    "    return np.random.randint(low=0, high=vector_length, size=num_draws)"
   ]
  }
 ],
 "metadata": {
  "kernelspec": {
   "display_name": "Python 3 (ipykernel)",
   "language": "python",
   "name": "python3"
  },
  "language_info": {
   "codemirror_mode": {
    "name": "ipython",
    "version": 3
   },
   "file_extension": ".py",
   "mimetype": "text/x-python",
   "name": "python",
   "nbconvert_exporter": "python",
   "pygments_lexer": "ipython3",
   "version": "3.9.6"
  }
 },
 "nbformat": 4,
 "nbformat_minor": 5
}
