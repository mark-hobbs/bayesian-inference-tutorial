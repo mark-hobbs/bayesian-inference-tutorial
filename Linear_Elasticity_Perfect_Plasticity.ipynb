{
 "cells": [
  {
   "cell_type": "code",
   "execution_count": 12,
   "id": "85181315",
   "metadata": {},
   "outputs": [],
   "source": [
    "import numpy\n",
    "import scipy.stats\n",
    "import matplotlib.pyplot as plt\n",
    "from matplotlib  import cm\n",
    "\n",
    "plt.rcParams.update({\n",
    "    \"text.usetex\": True,\n",
    "    \"font.family\": \"sans-serif\",\n",
    "    \"font.sans-serif\": [\"Times New Roman\"]})\n",
    "plt.rcParams[\"font.family\"] = \"Times New Roman\""
   ]
  },
  {
   "cell_type": "markdown",
   "id": "54e1999b",
   "metadata": {},
   "source": [
    "## Generic functions"
   ]
  },
  {
   "cell_type": "code",
   "execution_count": 13,
   "id": "245f38f6",
   "metadata": {},
   "outputs": [],
   "source": [
    "def add_labels(graph_title, x_label, y_label):\n",
    "    \"\"\"Add labels to graphs\"\"\"\n",
    "    plt.title(graph_title)\n",
    "    plt.xlabel(x_label)\n",
    "    plt.ylabel(y_label)"
   ]
  },
  {
   "cell_type": "markdown",
   "id": "396b9339",
   "metadata": {},
   "source": [
    "## Papers\n",
    "\n",
    "[Identifying elastoplastic parameters with Bayes’ theorem considering output error, input error and model uncertainty](https://www.sciencedirect.com/science/article/pii/S0266892018300547)\n",
    "\n",
    "[A Tutorial on Bayesian Inference to Identify Material Parameters in Solid Mechanics](https://link.springer.com/article/10.1007/s11831-018-09311-x)"
   ]
  },
  {
   "cell_type": "markdown",
   "id": "2ff9f8d4",
   "metadata": {},
   "source": [
    "## Parameters"
   ]
  },
  {
   "cell_type": "markdown",
   "id": "189cd717",
   "metadata": {},
   "source": [
    "A linear elastic-perfectly plastic specimen is considered with Young's modulus $E =$ 210 GPa and yield stress $\\sigma_{y0} =$ 0.25 GPa. \n",
    "\n",
    "The parameters to be identified for the linear elastic-perfectly plastic model are the Young's modulus and the initial yield stress, which are stored in the parameter vector $\\textbf{x}$:\n",
    "\n",
    " $$\\textbf{x}=[E \\; \\sigma_{y0}]^T$$"
   ]
  },
  {
   "cell_type": "code",
   "execution_count": 14,
   "id": "ecbda677",
   "metadata": {},
   "outputs": [],
   "source": [
    "E_correct = 210              # Young's modulus (GPa)\n",
    "yield_stress_correct = 0.25  # Yield stress (GPa)\n",
    "s_noise_correct = 0.01       # Noise in the stress measurement (GPa)"
   ]
  },
  {
   "cell_type": "markdown",
   "id": "6577b326",
   "metadata": {},
   "source": [
    "## Constitutive model\n",
    "\n",
    "The stress-strain response of the linear elastic-perfectly plastic model during monotonic tension can be written as:\n",
    "\n",
    "$$\\sigma(\\epsilon, \\textbf{x}) = \n",
    "    \\begin{cases}\n",
    "        E\\epsilon \\quad \\text{if} \\quad \\epsilon \\leqslant \\frac{\\sigma_{y0}}{E} \\\\\n",
    "        \\sigma_{y0} \\quad \\text{if} \\quad \\epsilon > \\frac{\\sigma_{y0}}{E}\n",
    "    \\end{cases}$$\n",
    "\n",
    "Using the Heaviside step function $h$, the stress-strain response of the linear elastic-perfectly plastic model can alternatively be expressed as:\n",
    "\n",
    "$$\\sigma(\\epsilon, \\textbf{x}) = E\\epsilon\\left(1 - h\\left(\\epsilon - \\frac{\\sigma_{y0}}{E}\\right)\\right) + \\sigma_{y0}h\\left(\\epsilon - \\frac{\\sigma_{y0}}{E}\\right)$$\n",
    "\n",
    "Where $\\textbf{x}$ is the parameter vector:\n",
    "\n",
    "$$\\textbf{x} = [E \\; \\sigma_{y0}]^T$$\n",
    "\n",
    "$E$ is the Young's modulus and $\\sigma_{y0}$ is the initial yield stress."
   ]
  },
  {
   "cell_type": "code",
   "execution_count": 15,
   "id": "16c96dec",
   "metadata": {},
   "outputs": [],
   "source": [
    "def calculate_stress(strain, yield_stress, E):\n",
    "    yield_strain = yield_stress / E\n",
    "    if strain < yield_strain:\n",
    "        stress = E * strain\n",
    "    elif strain > yield_strain:\n",
    "        stress = yield_stress\n",
    "    return stress"
   ]
  },
  {
   "cell_type": "markdown",
   "id": "8b22bcd5",
   "metadata": {},
   "source": [
    "### Stress-strain graph"
   ]
  },
  {
   "cell_type": "markdown",
   "id": "e948e728",
   "metadata": {},
   "source": [
    "Twelve experimental measurements are provided. The noise in the stress measurements is a normal distribution with a zero mean and a standard deviation of $s_{noise}$."
   ]
  },
  {
   "cell_type": "code",
   "execution_count": 16,
   "id": "48e357e5",
   "metadata": {},
   "outputs": [],
   "source": [
    "def plot_stress_strain(strain_measured, stress_measured, yield_stress, E):\n",
    "    \n",
    "    strain = numpy.linspace(0, 2.5E-3, 100)\n",
    "    stress = []\n",
    "\n",
    "    for i in range(len(strain)):\n",
    "        tmp = calculate_stress(strain[i], yield_stress, E)\n",
    "        stress.append(tmp)\n",
    "    \n",
    "    plt.plot(strain, stress)\n",
    "    plt.plot(strain_measured, stress_measured, 'o')\n",
    "    add_labels(\"Stress-strain graph\", \"Strain $\\epsilon$\", \"Stress $\\sigma$\")"
   ]
  },
  {
   "cell_type": "code",
   "execution_count": 17,
   "id": "5d9fbcda",
   "metadata": {},
   "outputs": [
    {
     "data": {
      "image/png": "[encoded data removed]",
      "text/plain": [
       "<Figure size 432x288 with 1 Axes>"
      ]
     },
     "metadata": {
      "needs_background": "light"
     },
     "output_type": "display_data"
    }
   ],
   "source": [
    "strain_experimental = [0.198E-3, 0.397E-3, 0.595E-3, 0.793E-3, 0.992E-3, 1.190E-3, \n",
    "                       1.388E-3, 1.587E-3, 1.785E-3, 1.985E-3, 2.182E-3, 2.383E-3]\n",
    "stress_experimental = [0.0448, 0.0955, 0.113, 0.158, 0.209, 0.255, \n",
    "                       0.276, 0.244, 0.249, 0.262, 0.259, 0.246]\n",
    "plot_stress_strain(strain_experimental, stress_experimental, yield_stress_correct, E_correct)"
   ]
  },
  {
   "cell_type": "markdown",
   "id": "bff82a3c",
   "metadata": {},
   "source": [
    "## Likelihood\n",
    "\n",
    "$$\\pi(y|\\textbf{x}) = \\frac{1}{s_{noise}\\sqrt{2\\pi}}exp\\left(-{\\frac{\\left(y - E\\epsilon\\left(1 - h\\left(\\epsilon - \\frac{\\sigma_{y0}}{E}\\right)\\right) - \\sigma_{y0}h\\left(\\epsilon - \\frac{\\sigma_{y0}}{E}\\right)\\right)^2}{2s^2_{noise}}}\\right)$$"
   ]
  },
  {
   "cell_type": "markdown",
   "id": "85aa8561",
   "metadata": {},
   "source": [
    "## Prior\n",
    "\n",
    "$$\\pi(\\textbf{x}) = exp\\left(-\\frac{(\\textbf{x}-\\overline{\\textbf{x}})^T\\Gamma^{-1}(\\textbf{x}-\\overline{\\textbf{x}})}{2} \\right)$$\n",
    "\n",
    "The following mean vector (prior candidate vector) and convariance matrix are selected:\n",
    "\n",
    "$$\\overline{\\textbf{x}} = \\begin{bmatrix} 200 \\\\ 0.29 \\end{bmatrix} \\; \\text{GPa}, \\quad \\Gamma_\\textbf{x} = \\begin{bmatrix} 2500 & 0 \\\\ 0 & 2.7778 \\times 10^{-4} \\end{bmatrix} \\; \\text{GPa}^2$$"
   ]
  },
  {
   "cell_type": "code",
   "execution_count": 18,
   "id": "7a1cf17e",
   "metadata": {},
   "outputs": [],
   "source": [
    "def calculate_prior(candidate_x, prior_x, cov_matrix):\n",
    "    \"\"\"Calculate the prior - note the exponential of the prior is taken\n",
    "                             when calculating the posterior\"\"\"\n",
    "    temp_var = candidate_x - prior_x\n",
    "    inv_cov_matrix = numpy.linalg.inv(cov_matrix)\n",
    "    numerator = numpy.matmul(numpy.transpose(temp_var), numpy.matmul(inv_cov_matrix, temp_var))\n",
    "    prior = numerator / 2\n",
    "    return prior"
   ]
  },
  {
   "cell_type": "markdown",
   "id": "c74523c4",
   "metadata": {},
   "source": [
    "## Posterior\n",
    "\n",
    "$$\\pi(\\textbf{x}|\\textbf{y}) = exp\\left(-\\left(\\frac{(\\textbf{x}-\\overline{\\textbf{x}})^T\\Gamma^{-1}(\\textbf{x}-\\overline{\\textbf{x}})}{2} + {\\frac{\\Sigma_{i=1}^{n_m}\\left(y_i - E\\epsilon_i\\left(1 - h\\left(\\epsilon_i - \\frac{\\sigma_{y0}}{E}\\right)\\right) - \\sigma_{y0}h\\left(\\epsilon_i - \\frac{\\sigma_{y0}}{E}\\right)\\right)^2}{2s^2_{noise}}}\\right)\\right)$$\n",
    "\n",
    "Where $n_m$ is the number of measurements, $y_i$ is the measured stress and $\\epsilon_i$ is the measured strain."
   ]
  },
  {
   "cell_type": "code",
   "execution_count": 19,
   "id": "23f8bbb1",
   "metadata": {},
   "outputs": [],
   "source": [
    "def calculate_posterior(candidate_x, prior_x, cov_matrix,\n",
    "                        strain_measured, stress_measured, s_noise):\n",
    "        \n",
    "    prior = calculate_prior(candidate_x, prior_x, cov_matrix)\n",
    "    \n",
    "    candidate_yield_stress = candidate_x[1]\n",
    "    candidate_E = candidate_x[0]\n",
    "    \n",
    "    total = 0\n",
    "    for i in range(len(stress_measured)):  # Loop over experimental data\n",
    "        total += (stress_measured[i] - calculate_stress(strain_measured[i], candidate_yield_stress, candidate_E))**2\n",
    "    \n",
    "    posterior = numpy.exp(-(prior + (total / (2 * s_noise**2))))\n",
    "\n",
    "    return posterior"
   ]
  },
  {
   "cell_type": "markdown",
   "id": "8e85f859",
   "metadata": {},
   "source": [
    "## The standard Metropolis-Hastings algorithm\n",
    "\n",
    "The standard Metropolis-Hastings approach is a frequently employed MCMC algorithm. The basic idea of the Metropolis-Hastings algorithm is to explore the probability density function (PDF) of interest by making a random walk through the parameter space $\\textbf{x}$.\n",
    "\n",
    "Consider sample $\\textbf{x}_i$ and its evaluation of the PDF, $\\pi(\\textbf{x}_i)$ new sample $\\textbf{x}_p$ is proposed by drawing from a proposal distribution.\n",
    "\n",
    "$\\gamma$ denotes the parameter that determines the width of the proposal distribution and must be tuned to obtain an efficient and converging algorithm. An efficient starting value is given by the following equation [1]:\n",
    "\n",
    "$$\\gamma = \\frac{2.38}{\\sqrt{n_p}}$$\n",
    "\n",
    "Where $n_p$ denotes the number of unknown parameters.\n",
    "\n",
    "[1] Gelman A, Roberts GO, Gilks WR (1996) Efficient Metropolis jumping rules. In: Bernardo JM, Berger JO, Dawid AP, Smith AFM (eds) Bayesian Statistics, vol 5. Oxford University Press, pp 599-607"
   ]
  },
  {
   "cell_type": "code",
   "execution_count": 20,
   "id": "c2f037d4",
   "metadata": {},
   "outputs": [],
   "source": [
    "def propose_new_sample(current_x):\n",
    "    \"\"\"Draw x (candidate) from proposal distribution\"\"\"\n",
    "    \n",
    "    gamma = 2.38 / numpy.sqrt(len(current_x))\n",
    "    candidate_x = current_x + (gamma * numpy.transpose(numpy.random.normal(size=(1,2))))\n",
    "    \n",
    "    return candidate_x"
   ]
  },
  {
   "cell_type": "code",
   "execution_count": 21,
   "id": "98cd77fe",
   "metadata": {},
   "outputs": [],
   "source": [
    "def accept_or_reject_candidate(sample, current_x, candidate_x, pdf_candidate_x, pdf_current_x,\n",
    "                               history_x, history_pdf):\n",
    "    \n",
    "    # Calculate the acceptance ratio (alpha) - alpha is used to decide whether to accept or reject a candidate\n",
    "    alpha = min(1, pdf_candidate_x / pdf_current_x)\n",
    "\n",
    "    # Generate a uniform random number (u)\n",
    "    u = numpy.random.uniform(low=0.0, high=1.0)\n",
    "\n",
    "    # Accept if u < alpha\n",
    "    if u < alpha:\n",
    "        history_x[sample, :] = numpy.transpose(candidate_x)\n",
    "        current_x = candidate_x\n",
    "        history_pdf[sample] = pdf_candidate_x\n",
    "\n",
    "    # Reject if u > alpha\n",
    "    if u > alpha:\n",
    "        history_x[sample, :] = numpy.transpose(current_x)\n",
    "        history_pdf[sample] = pdf_current_x\n",
    "        \n",
    "    return current_x, history_x, history_pdf"
   ]
  },
  {
   "cell_type": "code",
   "execution_count": 22,
   "id": "9a9e6b44",
   "metadata": {},
   "outputs": [],
   "source": [
    "def metropolis_hastings(initial_x, prior_cov_matrix, \n",
    "                        strain_measured, stress_measured, \n",
    "                        s_noise, n_samples=100000):\n",
    "    \n",
    "    # ----------------------------------------\n",
    "    # Initial candidate\n",
    "    # ----------------------------------------\n",
    "    current_x = initial_x.copy()\n",
    "    prior_x = initial_x.copy()\n",
    "    \n",
    "    history_pdf = numpy.zeros(n_samples)\n",
    "    history_x = numpy.zeros([n_samples, 2])\n",
    "    history_x[0, :] = numpy.transpose(current_x)\n",
    "    \n",
    "    \n",
    "    for i in range(n_samples):\n",
    "        \n",
    "        # -----------------------------------------------\n",
    "        # Draw a candidate from the proposal distribution\n",
    "        # -----------------------------------------------\n",
    "        \n",
    "        candidate_x = propose_new_sample(current_x)\n",
    "\n",
    "        # ------------------------\n",
    "        # Calculate the likelihood\n",
    "        # ------------------------\n",
    "        \n",
    "        pdf_current_x = calculate_posterior(current_x, prior_x, prior_cov_matrix, \n",
    "                                            strain_measured, stress_measured, s_noise)\n",
    "\n",
    "        pdf_candidate_x = calculate_posterior(candidate_x, prior_x, prior_cov_matrix, \n",
    "                                              strain_measured, stress_measured, s_noise)\n",
    "        \n",
    "        # ------------------------------\n",
    "        # Accept or reject the candidate\n",
    "        # ------------------------------\n",
    "        current_x, history_x, history_pdf = accept_or_reject_candidate(i, current_x, candidate_x, \n",
    "                                                                       pdf_candidate_x, pdf_current_x,\n",
    "                                                                       history_x, history_pdf)\n",
    "                \n",
    "            \n",
    "    return history_x, history_pdf"
   ]
  },
  {
   "cell_type": "markdown",
   "id": "9ceef97e",
   "metadata": {},
   "source": [
    "## Markov Chain Monte Carlo\n",
    "\n",
    "Determine the PDF for the Young's modulus $E$ and yield stress $\\sigma_{y0}$"
   ]
  },
  {
   "cell_type": "code",
   "execution_count": 23,
   "id": "abb3d8e2",
   "metadata": {},
   "outputs": [],
   "source": [
    "n_burnt_samples = 3000\n",
    "\n",
    "initial_x = numpy.array([[200], [0.29]])  # Mean vector (GPa)\n",
    "cov_matrix = numpy.array([[2500, 0], [0, 2.7778E-4]])  # Covariance matrix (GPa^2)\n",
    "\n",
    "x, pdf = metropolis_hastings(initial_x, cov_matrix, strain_experimental, stress_experimental, \n",
    "                             s_noise_correct)\n"
   ]
  },
  {
   "cell_type": "code",
   "execution_count": 24,
   "id": "051215ca",
   "metadata": {},
   "outputs": [
    {
     "data": {
      "image/png": "[encoded data removed]",
      "text/plain": [
       "<Figure size 432x288 with 1 Axes>"
      ]
     },
     "metadata": {
      "needs_background": "light"
     },
     "output_type": "display_data"
    }
   ],
   "source": [
    "plt.plot(x[:,0])\n",
    "add_labels(\"Trace plot \\(E\\)\", \"S\", \"Young's Modulus \\(E\\)\")"
   ]
  },
  {
   "cell_type": "code",
   "execution_count": 25,
   "id": "e80c78a3",
   "metadata": {},
   "outputs": [
    {
     "data": {
      "image/png": "[encoded data removed]",
      "text/plain": [
       "<Figure size 432x288 with 1 Axes>"
      ]
     },
     "metadata": {
      "needs_background": "light"
     },
     "output_type": "display_data"
    }
   ],
   "source": [
    "plt.plot(x[:,1])\n",
    "add_labels(\"Trace plot \\(\\sigma_{y0}\\)\", \"S\", \"Yield Stress \\(\\sigma_{y0}\\)\")"
   ]
  },
  {
   "cell_type": "code",
   "execution_count": 26,
   "id": "98d168d4",
   "metadata": {},
   "outputs": [
    {
     "data": {
      "image/png": "[encoded data removed]",
      "text/plain": [
       "<Figure size 432x432 with 1 Axes>"
      ]
     },
     "metadata": {
      "needs_background": "light"
     },
     "output_type": "display_data"
    }
   ],
   "source": [
    "fig = plt.figure(figsize=(6,6))\n",
    "ax = fig.add_subplot(111)\n",
    "ax.scatter(x[:,0], x[:,1], s=20, c=pdf, marker = 'o', cmap = cm.jet );\n",
    "add_labels(\"Posterior\", \"Young's Modulus \\(E\\)\", \"Yield Stress \\(\\sigma_{y0}\\)\")"
   ]
  },
  {
   "cell_type": "markdown",
   "id": "17b23eae",
   "metadata": {},
   "source": [
    "## The Adaptive Metropolis-Hastings algorithm\n"
   ]
  },
  {
   "cell_type": "markdown",
   "id": "cf3880b5",
   "metadata": {},
   "source": [
    "The width of the proposal distribution $\\gamma$ has to be tuned to obtain an efficient and converging algorithm. It can be seen in the above figures that the chain converges on the correct yield stress $\\sigma_{y0}$ but poor convergence behaviour is observed for the Young's modulus $E$. To overcome the tuning of $\\gamma$, Haario et al. [2] introduced the adaptive proposal (AP) method. The AP method updates the width of the proposal distribution using the existing knowledge of the posterior. The existing knowledge is based on the previous samples.\n",
    "\n",
    "For sample $n_k + 1$, the update employs the following formulation:\n",
    "\n",
    "$$q(\\textbf{x}_p | \\textbf{x}_i) \\sim N(\\textbf{x}_i, \\gamma^2 \\textbf{R}_{n_{\\textbf{k}}})$$\n",
    "\n",
    "Where $N(\\textbf{x}_i, \\gamma^2 \\textbf{R}_{n_{\\textbf{k}}})$ denotes a normal distribution with mean $\\textbf{x}_i$ and covariance matrix $\\gamma^2 \\textbf{R}_{n_{\\textbf{k}}}$ of size $n_p \\times n_p$. To establish $\\textbf{R}_{n_{\\textbf{k}}}$, all $n_k$ previous samples are first stored in matrix $\\textbf{K}$ of size $n_{\\textbf{K}} \\times n_p$. $\\textbf{R}_{n_{\\textbf{k}}}$ is then computed as:\n",
    "\n",
    "[2] Haario, H., Saksman, E., & Tamminen, J. (1999). Adaptive proposal distribution for random walk Metropolis algorithm. Computational Statistics, 14(3), 375-395."
   ]
  }
 ],
 "metadata": {
  "kernelspec": {
   "display_name": "Python 3 (ipykernel)",
   "language": "python",
   "name": "python3"
  },
  "language_info": {
   "codemirror_mode": {
    "name": "ipython",
    "version": 3
   },
   "file_extension": ".py",
   "mimetype": "text/x-python",
   "name": "python",
   "nbconvert_exporter": "python",
   "pygments_lexer": "ipython3",
   "version": "3.8.12"
  }
 },
 "nbformat": 4,
 "nbformat_minor": 5
}
