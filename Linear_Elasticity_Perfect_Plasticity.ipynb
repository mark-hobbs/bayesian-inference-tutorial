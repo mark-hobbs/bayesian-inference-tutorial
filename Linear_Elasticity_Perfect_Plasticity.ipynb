{
 "cells": [
  {
   "cell_type": "code",
   "execution_count": 3,
   "id": "85181315",
   "metadata": {},
   "outputs": [],
   "source": [
    "import numpy\n",
    "import scipy.stats\n",
    "import matplotlib.pyplot as plt\n",
    "plt.rcParams.update({\n",
    "    \"text.usetex\": True,\n",
    "    \"font.family\": \"sans-serif\",\n",
    "    \"font.sans-serif\": [\"Times New Roman\"]})\n",
    "plt.rcParams[\"font.family\"] = \"Times New Roman\""
   ]
  },
  {
   "cell_type": "markdown",
   "id": "54e1999b",
   "metadata": {},
   "source": [
    "## Generic functions"
   ]
  },
  {
   "cell_type": "code",
   "execution_count": 4,
   "id": "245f38f6",
   "metadata": {},
   "outputs": [],
   "source": [
    "def add_labels(graph_title, x_label, y_label):\n",
    "    \"\"\"Add labels to graphs\"\"\"\n",
    "    plt.title(graph_title)\n",
    "    plt.xlabel(x_label)\n",
    "    plt.ylabel(y_label)"
   ]
  },
  {
   "cell_type": "markdown",
   "id": "396b9339",
   "metadata": {},
   "source": [
    "## Papers\n",
    "\n",
    "[Identifying elastoplastic parameters with Bayes’ theorem considering output error, input error and model uncertainty](https://www.sciencedirect.com/science/article/pii/S0266892018300547)\n",
    "\n",
    "[A Tutorial on Bayesian Inference to Identify Material Parameters in Solid Mechanics](https://link.springer.com/article/10.1007/s11831-018-09311-x)"
   ]
  },
  {
   "cell_type": "markdown",
   "id": "2ff9f8d4",
   "metadata": {},
   "source": [
    "## Parameters"
   ]
  },
  {
   "cell_type": "markdown",
   "id": "189cd717",
   "metadata": {},
   "source": [
    "A linear elastic-perfectly plastic specimen is considered with Young's modulus $E =$ 210 GPa and yield stress $\\sigma_{y0} =$ 0.25 GPa. \n",
    "\n",
    "The parameters to be identified for the linear elastic-perfectly plastic model are the Young's modulus and the initial yield stress, which are stored in the parameter vector $\\textbf{x}$:\n",
    "\n",
    " $$\\textbf{x}=[E \\; \\sigma_{y0}]^T$$"
   ]
  },
  {
   "cell_type": "code",
   "execution_count": 5,
   "id": "ecbda677",
   "metadata": {},
   "outputs": [],
   "source": [
    "E_accurate = 210  # Young's modulus (GPa)\n",
    "yield_stress = 0.25  # Yield stress (GPa)\n",
    "s_noise = 0.01  # Noise in the stress measurement (GPa)\n",
    "\n",
    "\n",
    "mean_vector_prior = numpy.array([[200], [0.29]])  # Mean vector (GPa)\n",
    "cov_matrix_prior = numpy.array([[2500, 0], [0, 2.7778E-4]])  # Covariance matrix (GPa^2)\n",
    "\n",
    "parameter_vector = mean_vector_prior\n"
   ]
  },
  {
   "cell_type": "markdown",
   "id": "6577b326",
   "metadata": {},
   "source": [
    "## Constitutive model\n",
    "\n",
    "The stress-strain response of the linear elastic-perfectly plastic model during monotonic tension can be written as:\n",
    "\n",
    "$$\\sigma(\\epsilon, \\textbf{x}) = \n",
    "    \\begin{cases}\n",
    "        E\\epsilon \\quad \\text{if} \\quad \\epsilon \\leqslant \\frac{\\sigma_{y0}}{E} \\\\\n",
    "        \\sigma_{y0} \\quad \\text{if} \\quad \\epsilon > \\frac{\\sigma_{y0}}{E}\n",
    "    \\end{cases}$$\n",
    "\n",
    "Using the Heaviside step function $h$, the stress-strain response of the linear elastic-perfectly plastic model can alternatively be expressed as:\n",
    "\n",
    "$$\\sigma(\\epsilon, \\textbf{x}) = E\\epsilon\\left(1 - h\\left(\\epsilon - \\frac{\\sigma_{y0}}{E}\\right)\\right) + \\sigma_{y0}h\\left(\\epsilon - \\frac{\\sigma_{y0}}{E}\\right)$$\n",
    "\n",
    "Where $\\textbf{x}$ is the parameter vector:\n",
    "\n",
    "$$\\textbf{x} = [E \\; \\sigma_{y0}]^T$$\n",
    "\n",
    "$E$ is the Young's modulus and $\\sigma_{y0}$ is the initial yield stress."
   ]
  },
  {
   "cell_type": "code",
   "execution_count": 6,
   "id": "16c96dec",
   "metadata": {},
   "outputs": [],
   "source": [
    "def calculate_stress(strain, yield_stress, E):\n",
    "    yield_strain = yield_stress / E\n",
    "    if strain < yield_strain:\n",
    "        stress = E * strain\n",
    "    elif strain > yield_strain:\n",
    "        stress = yield_stress\n",
    "    return stress"
   ]
  },
  {
   "cell_type": "markdown",
   "id": "8b22bcd5",
   "metadata": {},
   "source": [
    "## Mean stress-strain graph"
   ]
  },
  {
   "cell_type": "code",
   "execution_count": 7,
   "id": "48e357e5",
   "metadata": {},
   "outputs": [
    {
     "data": {
      "image/png": "[encoded data removed]",
      "text/plain": [
       "<Figure size 432x288 with 1 Axes>"
      ]
     },
     "metadata": {
      "needs_background": "light"
     },
     "output_type": "display_data"
    }
   ],
   "source": [
    "strain = numpy.linspace(0, 2.5E-3, 100)\n",
    "stress = []\n",
    "\n",
    "for i in range(len(strain)):\n",
    "    tmp = calculate_stress(strain[i], yield_stress, E_accurate)\n",
    "    stress.append(tmp)\n",
    "\n",
    "plt.plot(strain, stress)\n",
    "add_labels(\"Mean stress-strain graph\", \"Strain $\\epsilon$\", \"Stress $\\sigma$\")"
   ]
  },
  {
   "cell_type": "markdown",
   "id": "d4620f85",
   "metadata": {},
   "source": [
    "## Experimental data"
   ]
  },
  {
   "cell_type": "markdown",
   "id": "c5df5c42",
   "metadata": {},
   "source": [
    "Twelve experimental measurements are provided. The noise in the stress measurements is a normal distribution with a zero mean and a standard deviation of $s_{noise}$."
   ]
  },
  {
   "cell_type": "code",
   "execution_count": 8,
   "id": "a153eae2",
   "metadata": {},
   "outputs": [
    {
     "data": {
      "image/png": "[encoded data removed]",
      "text/plain": [
       "<Figure size 432x288 with 1 Axes>"
      ]
     },
     "metadata": {
      "needs_background": "light"
     },
     "output_type": "display_data"
    }
   ],
   "source": [
    "strain_measured = [0.198E-3, 0.397E-3, 0.595E-3, 0.793E-3, 0.992E-3, 1.190E-3, \n",
    "                   1.388E-3, 1.587E-3, 1.785E-3, 1.985E-3, 2.182E-3, 2.383E-3]\n",
    "stress_measured = [0.0448, 0.0955, 0.113, 0.158, 0.209, 0.255, \n",
    "                   0.276, 0.244, 0.249, 0.262, 0.259, 0.246]\n",
    "\n",
    "plt.plot(strain, stress)\n",
    "plt.plot(strain_measured, stress_measured, 'o')\n",
    "add_labels(\"Stress-strain graph\", \"Strain $\\epsilon$\", \"Stress $\\sigma$\")"
   ]
  },
  {
   "cell_type": "markdown",
   "id": "bff82a3c",
   "metadata": {},
   "source": [
    "## Likelihood\n",
    "\n",
    "$$\\pi(y|\\textbf{x}) = \\frac{1}{s_{noise}\\sqrt{2\\pi}}exp\\left(-{\\frac{\\left(y - E\\epsilon\\left(1 - h\\left(\\epsilon - \\frac{\\sigma_{y0}}{E}\\right)\\right) - \\sigma_{y0}h\\left(\\epsilon - \\frac{\\sigma_{y0}}{E}\\right)\\right)^2}{2s^2_{noise}}}\\right)$$"
   ]
  },
  {
   "cell_type": "markdown",
   "id": "85aa8561",
   "metadata": {},
   "source": [
    "## Prior\n",
    "\n",
    "$$\\pi(\\textbf{x}) = exp\\left(-\\frac{(\\textbf{x}-\\overline{\\textbf{x}})^T\\Gamma^{-1}(\\textbf{x}-\\overline{\\textbf{x}})}{2} \\right)$$\n",
    "\n",
    "The following mean vector and convariance matrix are selected:\n",
    "\n",
    "$$\\overline{\\textbf{x}} = \\begin{bmatrix} 200 \\\\ 0.29 \\end{bmatrix} \\; \\text{GPa}, \\quad \\Gamma_\\textbf{x} = \\begin{bmatrix} 2500 & 0 \\\\ 0 & 2.7778 \\times 10^{-4} \\end{bmatrix} \\; \\text{GPa}^2$$"
   ]
  },
  {
   "cell_type": "code",
   "execution_count": 9,
   "id": "7a1cf17e",
   "metadata": {},
   "outputs": [],
   "source": [
    "def calculate_prior(parameter_vector, mean_vector, cov_matrix):\n",
    "    temp_var = parameter_vector - mean_vector\n",
    "    numerator = numpy.transpose(temp_var) * numpy.linalg.inv(cov_matrix) * (temp_var)\n",
    "    pdf = numpy.exp(numerator / 2)\n",
    "    return pdf"
   ]
  },
  {
   "cell_type": "markdown",
   "id": "c74523c4",
   "metadata": {},
   "source": [
    "## Posterior\n",
    "\n",
    "$$\\pi(\\textbf{x}|\\textbf{y}) = exp\\left(-\\left(\\frac{(\\textbf{x}-\\overline{\\textbf{x}})^T\\Gamma^{-1}(\\textbf{x}-\\overline{\\textbf{x}})}{2} + {\\frac{\\Sigma_{i=1}^{n_m}\\left(y_i - E\\epsilon_i\\left(1 - h\\left(\\epsilon_i - \\frac{\\sigma_{y0}}{E}\\right)\\right) - \\sigma_{y0}h\\left(\\epsilon_i - \\frac{\\sigma_{y0}}{E}\\right)\\right)^2}{2s^2_{noise}}}\\right)\\right)$$\n",
    "\n",
    "Where $n_m$ is the number of measurements, $y_i$ is the measured stress and $\\epsilon_i$ is the measured strain."
   ]
  },
  {
   "cell_type": "code",
   "execution_count": 10,
   "id": "23f8bbb1",
   "metadata": {},
   "outputs": [],
   "source": [
    "def calculate_posterior(parameter_vector, mean_vector, cov_matrix, \n",
    "                        strain, yield_stress, E, stress, s_noise):\n",
    "        \n",
    "    prior_pdf = calculate_prior(parameter_vector, mean_vector, cov_matrix)\n",
    "    \n",
    "    total = 0\n",
    "    for i in range(len(stress)):\n",
    "        total += (stress[i] - calculate_stress(strain[i], yield_stress, E))**2\n",
    "    \n",
    "    posterior = numpy.exp(-(prior_pdf + (total / (2 * s_noise**2))))\n",
    "    \n",
    "    return posterior"
   ]
  },
  {
   "cell_type": "markdown",
   "id": "8e85f859",
   "metadata": {},
   "source": [
    "## The standard Metropolis-Hastings algorithm\n",
    "\n",
    "The standard Metropolis-Hastings approach is a frequently employed MCMC algorithm. The basic idea of the Metropolis-Hastings algorithm is to explore the PDF of interest by making a random walk through the parameter space $\\textbf{x}$.\n",
    "\n",
    "Consider sample $\\textbf{x}_i$ and its evaluation of the PDF, $\\pi(\\textbf{x}_i)$ new sample $\\textbf{x}_p$ is proposed by drawing from a proposal distribution."
   ]
  },
  {
   "cell_type": "code",
   "execution_count": 11,
   "id": "9a9e6b44",
   "metadata": {},
   "outputs": [],
   "source": [
    "def metropolis_hastings():\n",
    "    \n",
    "    # Select the initial sample\n",
    "    \n",
    "    accepted = []\n",
    "    rejected = []\n",
    "    \n",
    "    gamma = 2.4 / numpy.sqrt(len(current_x))  # Where does this value come from?\n",
    "    \n",
    "    current_x = numpy.array([[200], [0.29]])\n",
    "    x[0] = current_x\n",
    "    \n",
    "    for i in range(n_samples):\n",
    "        \n",
    "        # Generate a candidate for the next sample\n",
    "        candidate_x = current_x + (gamma * numpy.transpose(numpy.random.normal(size=(1,2))))\n",
    "\n",
    "        # Calculate the likelihood?\n",
    "        pdf_current_x = calculate_posterior(parameter_vector, current_x, cov_matrix_prior, strain_measured, \n",
    "                                            current_x[1], current_x[0], stress_measured, s_noise)\n",
    "\n",
    "        pdf_candidate_x = calculate_posterior(parameter_vector, current_x, cov_matrix_prior, \n",
    "                                  strain_measured, candidate_x[1], candidate_x[0], stress_measured, s_noise)\n",
    "        \n",
    "        # Calculate the acceptance ratio (alpha), which will be used to decide whether to accept or reject a candidate\n",
    "        alpha = min(1, pdf_candidate_x[0] / pdf_current_x[0])\n",
    "        \n",
    "        # Accept or reject the candidate\n",
    "            \n",
    "        # Generate a uniform random number (u)\n",
    "        u = numpy.random.uniform(low=0.0, high=1.0)\n",
    "            \n",
    "        # Accept if u < alpha\n",
    "        \n",
    "        if u < alpha:\n",
    "            x[i] = candidate_x\n",
    "            \n",
    "        # Reject if u > alpha\n",
    "        if u > alpha:\n",
    "            x[i] = current_x"
   ]
  },
  {
   "cell_type": "markdown",
   "id": "9ceef97e",
   "metadata": {},
   "source": [
    "## Markov Chain Monte Carlo\n",
    "\n",
    "Determine the PDF for the Young's modulus $E$ and yield stress $\\sigma_{y0}$\n",
    "\n",
    "The value of the posterior is larger if the random value is close to the real value... "
   ]
  },
  {
   "cell_type": "code",
   "execution_count": 37,
   "id": "abb3d8e2",
   "metadata": {},
   "outputs": [],
   "source": [
    "n_samples = 10000\n",
    "n_burnt_samples = 3000\n",
    "\n",
    "x = numpy.zeros([n_samples, 2])\n",
    "\n",
    "current_x = numpy.array([[200], [0.29]])\n",
    "x[0, :] = numpy.transpose(current_x)\n",
    "\n",
    "gamma = 2.4 / numpy.sqrt(len(current_x))  # Where does this value come from?\n",
    "\n",
    "for i in range(n_samples):\n",
    "\n",
    "    # Generate a candidate for the next sample\n",
    "    candidate_x = current_x + (gamma * numpy.transpose(numpy.random.normal(size=(1,2))))\n",
    "\n",
    "    # Calculate the likelihood?\n",
    "    pdf_current_x = calculate_posterior(parameter_vector, current_x, cov_matrix_prior, strain_measured, \n",
    "                                        current_x[1], current_x[0], stress_measured, s_noise)\n",
    "\n",
    "    pdf_candidate_x = calculate_posterior(parameter_vector, current_x, cov_matrix_prior, \n",
    "                              strain_measured, candidate_x[1], candidate_x[0], stress_measured, s_noise)\n",
    "\n",
    "    # Calculate the acceptance ratio (alpha), which will be used to decide whether to accept or reject a candidate\n",
    "    alpha = min(1, pdf_candidate_x[0,0] / pdf_current_x[0,0])\n",
    "\n",
    "    # Accept or reject the candidate\n",
    "\n",
    "    # Generate a uniform random number (u)\n",
    "    u = numpy.random.uniform(low=0.0, high=1.0)\n",
    "\n",
    "    # Accept if u < alpha\n",
    "\n",
    "    if u < alpha:\n",
    "        x[i, :] = numpy.transpose(candidate_x)\n",
    "        current_x = candidate_x\n",
    "    # Reject if u > alpha\n",
    "    if u > alpha:\n",
    "        x[i, :] = numpy.transpose(current_x)"
   ]
  },
  {
   "cell_type": "code",
   "execution_count": null,
   "id": "051215ca",
   "metadata": {},
   "outputs": [
    {
     "data": {
      "text/plain": [
       "[<matplotlib.lines.Line2D at 0x7fb9058e8b20>]"
      ]
     },
     "execution_count": 38,
     "metadata": {},
     "output_type": "execute_result"
    }
   ],
   "source": [
    "plt.plot(x[:,0])\n"
   ]
  }
 ],
 "metadata": {
  "kernelspec": {
   "display_name": "Python 3 (ipykernel)",
   "language": "python",
   "name": "python3"
  },
  "language_info": {
   "codemirror_mode": {
    "name": "ipython",
    "version": 3
   },
   "file_extension": ".py",
   "mimetype": "text/x-python",
   "name": "python",
   "nbconvert_exporter": "python",
   "pygments_lexer": "ipython3",
   "version": "3.9.6"
  }
 },
 "nbformat": 4,
 "nbformat_minor": 5
}
